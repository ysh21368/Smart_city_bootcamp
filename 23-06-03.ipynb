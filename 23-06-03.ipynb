{
 "cells": [
  {
   "cell_type": "markdown",
   "id": "e47cf54e-9feb-46b7-897a-e7e75d4c8023",
   "metadata": {},
   "source": [
    "## python Basic"
   ]
  },
  {
   "cell_type": "code",
   "execution_count": 5,
   "id": "61236257-79d7-4c0f-8933-abe4b18d4ae8",
   "metadata": {},
   "outputs": [],
   "source": [
    "a = 1.2\n",
    "a = -3.45"
   ]
  },
  {
   "cell_type": "code",
   "execution_count": 15,
   "id": "667b73d6-3e72-4353-8c8b-a1967cddb9b4",
   "metadata": {},
   "outputs": [
    {
     "name": "stdout",
     "output_type": "stream",
     "text": [
      "5\n"
     ]
    }
   ],
   "source": [
    "result = eval(\"2 + 3\")\n",
    "print(result)  # 출력: 5"
   ]
  },
  {
   "cell_type": "code",
   "execution_count": 16,
   "id": "bf5faa86-4bbd-472c-877b-8c07146e47db",
   "metadata": {},
   "outputs": [],
   "source": [
    "word = eval('123')"
   ]
  },
  {
   "cell_type": "code",
   "execution_count": 116,
   "id": "8a936ef8-d461-4e70-8ff9-81b16a516542",
   "metadata": {},
   "outputs": [],
   "source": [
    "import pandas as pd"
   ]
  },
  {
   "cell_type": "code",
   "execution_count": 117,
   "id": "67dcc094-bd05-4053-985d-7ec2fdef94f2",
   "metadata": {
    "tags": []
   },
   "outputs": [
    {
     "name": "stderr",
     "output_type": "stream",
     "text": [
      "C:\\Users\\USER\\anaconda3\\lib\\site-packages\\IPython\\core\\interactiveshell.py:3444: DtypeWarning: Columns (2) have mixed types.Specify dtype option on import or set low_memory=False.\n",
      "  exec(code_obj, self.user_global_ns, self.user_ns)\n"
     ]
    }
   ],
   "source": [
    "data = pd.read_csv(\"소상공인시장진흥공단_상가(상권)정보_강원_202303.csv\")"
   ]
  },
  {
   "cell_type": "code",
   "execution_count": 61,
   "id": "1836d4b2-8b37-4a7b-aff4-05570cec1a0d",
   "metadata": {},
   "outputs": [],
   "source": [
    "text = \"\"\"프로그래밍 세계는 인공지능(AI) 기술 덕분에 진화하고 있다. AI가 생성한 코드가 점점 더 정확해지고 있기 때문에 AI가 인간 프로그래머를 완전히 대체하는 것은 시간 문제일 수 있다.\n",
    "\n",
    "어떤 사람들은 이것을 부정적으로 볼 수 있는 반면, 다른 사람들은 AI가 더 나은 코드 작성 프로세스를 가속화할 것이라고 생각한다.\n",
    "\n",
    "기술매체 마크테크포스트가 사용할만한 코드 생성 AI 10개를 선정해 1일(현지시간) 보도했다.\n",
    "\n",
    "◆ 오픈AI 코덱스(Codex)\n",
    "\n",
    "깃허브의 도구인 깃허브 코파일럿(Copilot)은 네오빔, 비주얼 스튜디오 코드, 제트브레인과 같은 일반적인 개발 환경 내에서 코드를 생성하고 깃허브 코드스페이스가 있는 클라우드에서도 GPT-3 기반 모델인 오픈AI 코덱스로 구동된다. 코덱스는 파이썬, C, 바시, 자바스크립트, 고우, 펄, PHP, 루비, 스위프트, 타입스크립트 등  최소 12개 언어로 코드를 작성할 수 있다. 이 알고리즘은 깃허브 저장소와 같은 곳에서 공개적으로 액세스할 수 있는 수조 줄의 코드로 훈련했다. 오픈AI는 제한된 베타 출시를 통해 플랫폼 공급자와 개발자가 모델에 액세스할 수 있도록 했다.\n",
    "\n",
    "◆ 코드T5(CodeT5)\n",
    "\n",
    "세일즈포스는 코드T5로 알려진 오픈 소스 프로그래밍 언어 패러다임을 만들었다. 구글의 T5(Text-to-Text Transfer Transformer) 프레임워크가 그 기반이다. 공개적으로 사용 가능한 깃허브 프로젝트에서 사용자 의견과 함께 약 835만개의 코드 인스턴스를 사용해 코드T5를 훈련했다. 이러한 데이터세트의 대부분은 루비, 자바스크립트, 고우, 파이썬, PHP, C 및 C#과 함께 빅쿼리의 C 및 C# 데이터세트 2개를 포함하는 코드서치네트 데이터세트에서 가져왔다.\n",
    "\n",
    "◆ 폴리코더(PolyCoder)\n",
    "\n",
    "오픈AI의 코덱스는 폴리코더와 경쟁한다. 카네기 멜론 대학에서 만든 이 모델은 12개의 서로 다른 프로그래밍 언어로 개발된 249GB 코드베이스를 사용해 훈련된 오픈AI의 GPT-2를 기반으로 한다. 폴리코더의 제작자는 폴리코더가 코덱스를 포함한 다른 어떤 모델보다 더 정확하게 C를 작성할 수 있다고 주장한다. 폴리코더는 가장 초기의 오픈 소스 코드 생성 모델 중 하나다.\n",
    "\n",
    "◆ 코그램(Cogram)\n",
    "\n",
    "코그램은 쥬피터 노트북과 SQL 쿼리를 사용해 데이터 과학자와 파이썬 프로그래머를 위한 코드를 생성하는 베를린의 Y-컴비네이터 인큐베이터의 신생 기업이다. 영어 쿼리는 데이터 과학자가 작성할 수 있으며 도구에 의한 연결 및 그룹화를 통해 정교한 SQL 쿼리로 변환될 수 있다. 마이SQL, SQ라이트, 포스트그리SQL 및 아마존 레드시프트와 함께 작동한다. 코그램은 파이썬 및 줄리아 개발자가 쥬피터 노트북과 통합해 자동으로 코드를 생성할 수 있다. 도구는 설명을 기반으로 특정 작업에 대한 컨텍스트 코드를 제공할 수 있다. 매트플롯라이브, 포틀리 또는 시본과 같은 일반적인 파이썬 모듈도 데이터 과학자가 시각화를 만드는 데 사용할 수 있다.\n",
    "\n",
    "◆ 깃허브 코파일럿(Copilot)\n",
    "\n",
    "깃허브 코파일럿이라는 AI 도구는 더 나은 코드를 생성하는 데 도움이 될 수 있다. 깃허브 코파일럿은 코드를 생성하고 다른 사람들의 코드에 대한 이해를 도울 수 있다. GPT-3 및 오픈AI 코덱스는 깃허브 코파일럿을 지원한다. 프로그래머는 항상 개선의 여지가 있음을 알고 있다. 그렇게 할 시간을 찾는 것이 때때로 어려울 수 있다. 여기에 AI 기반 기술이 유용할 수 있다. AI 기술은 더 나은 코드를 더 빨리 작성하는 데 도움이 될 수 있다.\n",
    "\n",
    "◆ 딥코드(DeepCode)\n",
    "\n",
    "딥코드는 코드를 검사하고 개선을 위한 제안을 제공하는 AI로 구동되는 코드 검토 도구다. 코드 완성, 리팩토링 및 라이닝은 많은 기능 중 하나다. 오픈 소스 프로젝트의 경우 딥코드는 무료이며 민간 기업은 프리미엄 멤버십을 이용할 수 있다.\n",
    "\n",
    "◆ 카이트(Kite)\n",
    "\n",
    "파이썬의 경우 카이트는 무료 AI 기반 코드 완성 도구다. 기계 학습 덕분에 실시간으로 코드를 완성할 수 있다. 유료로 카이트는 정교한 코드 분석 및 리팩토링 도구를 포함한 프리미엄 서비스도 제공한다. 카이트는 16개 이상의 언어와 16개 이상의 코드 편집기를 지원하기 때문에 경쟁 제품과 차별화된다. 카이트에 대한 정기적인 업데이트는 이 기계 학습 코드 지원을 경쟁 제품보다 더 신뢰할 수 있고 경제적으로 만든다.\n",
    "\n",
    "◆ 탭나인(TabNine)\n",
    "\n",
    "탭나인이라는 AI 기반 코드 완성 애플리케이션은 딥 러닝을 사용해 가능한 코드 완성을 제공한다. 코드 조각이 주어지면 동일한 문제에 사용할 수 있는 유사한 코드 조각을 제공한다. 탭나인은 50개 이상의 프로그래밍 언어를 지원하고 무료다.\n",
    "\n",
    "◆ 코드WP(CodeWP)\n",
    "\n",
    "워드프레스 코드 생성기 코드WP는 아이소트로픽에서 만들었다. 이 플랫폼은 자바스크립트 및 PHP 지원과 우코머스 및 주요 페이지 빌더와 같은 잘 알려진 플러그인에 맞는 설정을 제공한다. 워드프레스 웹 사이트를 구성하는 사람들을 위해 특별히 설계되고 최적화되었다. 코드WP를 사용하면 복잡한 쿼리를 작성하고, 단축 코드를 생성하고, 정확하게 수행하는 데 일반적으로 수백 분에서 몇 시간이 걸리는 작업을 간단하게 완료할 수 있다. 개발자와 비기술적인 워드프레스 디자이너 모두를 대상으로 한다.\n",
    "\n",
    "◆ 애스크코디(AskCodi)\n",
    "\n",
    "애스크코디는 AI를 사용해 프로그래머와 개발자가 더 빠르게 제작할 수 있도록 지원하는 포괄적인 툴킷이다. 여러 언어로 코드를 생성하는 것부터 이미 작성된 코드를 사용해 문서를 만드는 것까지 다양한 설정이 있다. 문서 작성부터 코드 작성까지 모든 개발 프로세스를 다룬다. 또한 처음부터 SQL 쿼리를 만들고 여러 테스트를 빠르게 만들 수 있다. 이러한 다양한 기능 세트는 AI를 사용해 모든 개발자가 더 빠르게 반복하고 배포할 수 있도록 지원함으로써 워크플로 효율성을 개선하는 것을 목표로 한다.\n",
    "\n",
    "◆ 코디가(Codiga)\n",
    "\n",
    "코디가는 다양한 플랫폼, IDE 및 기타 프로그램에서 작동하는 정적 코드 분석 도구다. 주로 보안에 중점을 두고 실시간 자동 코드 수정이 가능한 제품이다. 이것은 코드가 가능한 한 효율적이고 안전하며 깨끗함을 보장하는 기술이다. 이 플랫폼은 YML, 자바스크립트, 타입스크립트, 루비 및 자바를 포함해 가장 널리 사용되는 언어를 지원한다. 코디가는 생성된 기존 코드를 분석하는 데 효과적이지만 새 코드를 생성하려면 도움이 필요히다. 따라서 제조된 제품을 보낼 때 훨씬 빠르고 효과적이다.\n",
    "\n",
    "◆ 비주얼 스튜디오 인텔리코드(Visual Studio IntelliCode)\n",
    "\n",
    "마이크로소프트의 인텔리코드는 AI 지원 코딩이 가능한 제품이다. 마이크로소프트 IDE인 비주얼 스튜디오와 통합되어 있다. 비주얼 스튜디오 코드의 자바, 파이썬, 자바스크립트 및 타입스크립트와 호환되며 비주얼 스튜디오의 C# 및 XAML을 지원한다. 이 AI 코드 완성 도구는 깃허브에서 별이 100개 이상인 50만개의 오픈 소스 프로젝트 코드에 대해 훈련을 받았다. 결과적으로 컨텍스트와 현재 코드를 고려하면서 보다 현명한 권장 사항을 제공할 수 있다.\n",
    "\n",
    "◆ 파이참(PyCharm)\n",
    "\n",
    "파이썬 프로그래머를 위해 특별히 설계된 통합 프로그래밍 환경인 파이참에서 AI 코드 완성 기능을 추가로 개발할 수 있다. 파이참의 키보드 중심 디자인을 사용하면 코딩 작업을 더 빨리 완료하고 더 중요한 작업에 집중할 수 있다. 신속한 수리, 이동 중 오류 확인, 원활한 프로젝트 탐색 및 지능형 코드 완성이 가능하다.\n",
    "\n",
    "◆ AIX코더(AIXcoder)\n",
    "\n",
    "AI 기술이 코드를 처리하므로 두뇌를 활용해 더 어렵고 중요한 문제를 해결할 수 있다. 개발 팀을 위한 지능형 프로그래밍 쌍을 AIX코더라고 한다. 수백만 줄의 오픈 소스 코드를 사용해 훈련된 딥 러닝 모델을 사용한다. 결과적으로 상황에 적합한 원칙을 제공할 수 있다. 데이터 보안 및 개인 정보 보호가 걱정되는 경우 오프라인 버전을 사용하여 컴퓨터에서 코드를 안전하게 유지할 수 있다. 팀이나 회사를 위한 개별화된 심층 사용자 정의를 지원하는 이 코드 완성 엔진의 도움으로 개발 프로세스 전체에서 더 많은 것을 성취할 수 있다. 또한 코딩 통계를 컴파일하여 맞춤형 코드 검사 기준을 제공한다.\n",
    "\n",
    "◆ 포니코드(Ponicode)\n",
    "\n",
    "포니코드를 사용하면 최소한의 작업으로 최고 수준의 품질을 유지하면서 코드를 더 빠르게 개발할 수 있다. 오류가 없는 소프트웨어를 만들고 제 시간에 제공할 수 있다. 설치 후 1분도 채 안되어 앱 생성 프로세스를 시작할 수 있다. 고품질 코딩으로 창의성과 신속함의 균형을 유지함으로써 지루한 작업을 제거하는 데 도움이 된다. 이제 버그와 결함이 없고 미래 보장형 코드가 있는 산업 등급 소프트웨어를 만들 수 있다. 이 솔루션은 자바, 파이썬, 자바스크립트 및 타입스크립트 프로그래밍 언어와 함께 무료로 사용할 수 있다.\n",
    "\n",
    "◆ 제다이(Jedi)\n",
    "\n",
    "제다이는 AI 코드 완성 솔루션의 또 다른 오픈 소스 옵션이다. 대부분 IDE 및 편집기용 파이썬 정적 분석 도구용 플러그인이다. 코드 자동 완성과 함께 goto 기능, 검색 및 찾기, 리팩토링 등과 같은 다른 기능을 사용한다. 간단한 API를 통해 비주얼 스튜디오 코드, 서브라임 텍스트, 빔, 이멕스, 케이트, 아톰, 지놈빌더, 게디트, 아이파이썬 등 다양한 편집기 및 프로젝트에서 사용할 수 있다.\n",
    "\n",
    "◆ 윙 프로(Wing Pro)\n",
    "\n",
    "영리한 편집기 윙 프로를 사용해 파이썬에서 빠르게 코딩해야 한다. 이 편집기는 정적 및 동적 코드를 검사해 상황에 맞는 탁월한 권장 사항을 제공한다. 또한 영리한 오류 검사 도구로 더 나은 편집 경험을 제공한다. 편집기의 자동 완성 기능과 내장 파이썬 셀을 모두 사용할 수 있다. 이 도구에는 인라인 문서, 타입 정보 및 호출 제안을 제공하기 위해 지속적으로 업데이트되는 소스 도우미가 포함되어 있다. 코딩할 때 자동으로 함수 및 메서드 매개 변수도 입력한다. 윙 프로를 사용하면 호출을 찾아보고 적절하게 매개변수를 입력할 수도 있다.\n",
    "\n",
    "박찬 위원 cpark@aitimes.com\n",
    "\n",
    "0\n",
    "키워드 관련기사\n",
    "딥마인드, 코드 생성 AI ‘알파코드’ 공개\n",
    "깃허브, 기업용 코파일럿 서비스 출시\n",
    "리플릿, 코드 생성 AI ‘고스트라이터’ 출시\n",
    "Copyright © '인공지능 전문미디어' AI타임스 (http://www.aitimes.com)\n",
    "무단전재 및 재배포 금지\n",
    "\n",
    "기사제보 및 보도자료 news@aitimes.com\n",
    "키워드Tags #코드 생성 AI #코덱스 #코드T5 #폴리코더 #코그램 #코파일럿 #딥코드 #카이트 #탭나인 #코드WP #애스크코디 #코디가 #인텔리코드 #파이참 #AIX코더 #포니코더 #제다이 #윙프로\n",
    "\n",
    "박찬 위원\n",
    "cpark@aitimes.com\n",
    "다른기사 보기\n",
    "\n",
    "기사 댓글 0\n",
    "로그인 후 이용 가능합니다.\n",
    "댓글 내용입력\n",
    "0 / 400\n",
    "\n",
    "\n",
    "출처 : AI타임스(https://www.aitimes.com)\"\"\""
   ]
  },
  {
   "cell_type": "code",
   "execution_count": 66,
   "id": "b0d65727-72e8-4458-b629-ff4a7dba4557",
   "metadata": {},
   "outputs": [],
   "source": [
    "loc = text.find(\"댓글\")"
   ]
  },
  {
   "cell_type": "code",
   "execution_count": 71,
   "id": "49bca1b4-ae38-44d1-a8a1-3ebd052028ee",
   "metadata": {},
   "outputs": [
    {
     "data": {
      "text/plain": [
       "-1"
      ]
     },
     "execution_count": 71,
     "metadata": {},
     "output_type": "execute_result"
    }
   ],
   "source": [
    "text[:loc-20].find('댓글')"
   ]
  },
  {
   "cell_type": "code",
   "execution_count": 64,
   "id": "c6d70a9f-ed93-445c-84f9-8737d200046d",
   "metadata": {},
   "outputs": [
    {
     "data": {
      "text/plain": [
       "-1"
      ]
     },
     "execution_count": 64,
     "metadata": {},
     "output_type": "execute_result"
    }
   ],
   "source": [
    "text.find(\"기자\")"
   ]
  },
  {
   "cell_type": "code",
   "execution_count": 75,
   "id": "94168716-b0b4-4e9f-82e7-001a031863c1",
   "metadata": {},
   "outputs": [],
   "source": [
    "text = ['appl e','melon ']"
   ]
  },
  {
   "cell_type": "code",
   "execution_count": 81,
   "id": "ffdd4432-51a0-4606-a980-0ba640afd1a5",
   "metadata": {},
   "outputs": [],
   "source": [
    "a = [1,2,3, ['a','b']]"
   ]
  },
  {
   "cell_type": "code",
   "execution_count": 86,
   "id": "fc488b7f-9422-43ee-b8a5-c5ce0ddb2864",
   "metadata": {},
   "outputs": [
    {
     "name": "stdout",
     "output_type": "stream",
     "text": [
      "a\n",
      "b\n"
     ]
    }
   ],
   "source": [
    "for i  in a:\n",
    "    if type(i) == list:\n",
    "        for j in i:\n",
    "            print(j)"
   ]
  },
  {
   "cell_type": "code",
   "execution_count": 92,
   "id": "a43ffa27-370a-4a4c-8dcd-46878e9bfb9e",
   "metadata": {},
   "outputs": [
    {
     "data": {
      "text/plain": [
       "'a'"
      ]
     },
     "execution_count": 92,
     "metadata": {},
     "output_type": "execute_result"
    }
   ],
   "source": [
    "a[3][0]"
   ]
  },
  {
   "cell_type": "code",
   "execution_count": 93,
   "id": "553cac9c-8c70-4010-93fe-988e20388065",
   "metadata": {},
   "outputs": [],
   "source": [
    "a = [1,2,3]\n",
    "b= [4,5,6]"
   ]
  },
  {
   "cell_type": "code",
   "execution_count": 95,
   "id": "9d3140de-709e-43b1-90cf-a9c24c881aca",
   "metadata": {},
   "outputs": [],
   "source": [
    "import numpy as np"
   ]
  },
  {
   "cell_type": "code",
   "execution_count": 99,
   "id": "f9636a1f-400d-46d2-b52a-435cbd77582f",
   "metadata": {},
   "outputs": [],
   "source": [
    "a1 = np.array(a)"
   ]
  },
  {
   "cell_type": "code",
   "execution_count": 100,
   "id": "f4343d81-cf13-4262-b8ce-4d6fc75a135f",
   "metadata": {},
   "outputs": [],
   "source": [
    "b1 = np.array(b)"
   ]
  },
  {
   "cell_type": "code",
   "execution_count": 102,
   "id": "eb573433-beff-4f1f-aa73-05e5918bcf35",
   "metadata": {},
   "outputs": [
    {
     "data": {
      "text/plain": [
       "32"
      ]
     },
     "execution_count": 102,
     "metadata": {},
     "output_type": "execute_result"
    }
   ],
   "source": [
    "np.dot(a1,b1)"
   ]
  },
  {
   "cell_type": "code",
   "execution_count": 104,
   "id": "75da700d-f43d-4b96-82a7-7b6e4e442c61",
   "metadata": {},
   "outputs": [
    {
     "data": {
      "application/json": {
       "cell": {
        "!": "OSMagics",
        "HTML": "Other",
        "SVG": "Other",
        "bash": "Other",
        "capture": "ExecutionMagics",
        "cmd": "Other",
        "debug": "ExecutionMagics",
        "file": "Other",
        "html": "DisplayMagics",
        "javascript": "DisplayMagics",
        "js": "DisplayMagics",
        "latex": "DisplayMagics",
        "markdown": "DisplayMagics",
        "perl": "Other",
        "prun": "ExecutionMagics",
        "pypy": "Other",
        "python": "Other",
        "python2": "Other",
        "python3": "Other",
        "ruby": "Other",
        "script": "ScriptMagics",
        "sh": "Other",
        "svg": "DisplayMagics",
        "sx": "OSMagics",
        "system": "OSMagics",
        "time": "ExecutionMagics",
        "timeit": "ExecutionMagics",
        "writefile": "OSMagics"
       },
       "line": {
        "alias": "OSMagics",
        "alias_magic": "BasicMagics",
        "autoawait": "AsyncMagics",
        "autocall": "AutoMagics",
        "automagic": "AutoMagics",
        "autosave": "KernelMagics",
        "bookmark": "OSMagics",
        "cd": "OSMagics",
        "clear": "KernelMagics",
        "cls": "KernelMagics",
        "colors": "BasicMagics",
        "conda": "PackagingMagics",
        "config": "ConfigMagics",
        "connect_info": "KernelMagics",
        "copy": "Other",
        "ddir": "Other",
        "debug": "ExecutionMagics",
        "dhist": "OSMagics",
        "dirs": "OSMagics",
        "doctest_mode": "BasicMagics",
        "echo": "Other",
        "ed": "Other",
        "edit": "KernelMagics",
        "env": "OSMagics",
        "gui": "BasicMagics",
        "hist": "Other",
        "history": "HistoryMagics",
        "killbgscripts": "ScriptMagics",
        "ldir": "Other",
        "less": "KernelMagics",
        "load": "CodeMagics",
        "load_ext": "ExtensionMagics",
        "loadpy": "CodeMagics",
        "logoff": "LoggingMagics",
        "logon": "LoggingMagics",
        "logstart": "LoggingMagics",
        "logstate": "LoggingMagics",
        "logstop": "LoggingMagics",
        "ls": "Other",
        "lsmagic": "BasicMagics",
        "macro": "ExecutionMagics",
        "magic": "BasicMagics",
        "matplotlib": "PylabMagics",
        "mkdir": "Other",
        "more": "KernelMagics",
        "notebook": "BasicMagics",
        "page": "BasicMagics",
        "pastebin": "CodeMagics",
        "pdb": "ExecutionMagics",
        "pdef": "NamespaceMagics",
        "pdoc": "NamespaceMagics",
        "pfile": "NamespaceMagics",
        "pinfo": "NamespaceMagics",
        "pinfo2": "NamespaceMagics",
        "pip": "PackagingMagics",
        "popd": "OSMagics",
        "pprint": "BasicMagics",
        "precision": "BasicMagics",
        "prun": "ExecutionMagics",
        "psearch": "NamespaceMagics",
        "psource": "NamespaceMagics",
        "pushd": "OSMagics",
        "pwd": "OSMagics",
        "pycat": "OSMagics",
        "pylab": "PylabMagics",
        "qtconsole": "KernelMagics",
        "quickref": "BasicMagics",
        "recall": "HistoryMagics",
        "rehashx": "OSMagics",
        "reload_ext": "ExtensionMagics",
        "ren": "Other",
        "rep": "Other",
        "rerun": "HistoryMagics",
        "reset": "NamespaceMagics",
        "reset_selective": "NamespaceMagics",
        "rmdir": "Other",
        "run": "ExecutionMagics",
        "save": "CodeMagics",
        "sc": "OSMagics",
        "set_env": "OSMagics",
        "store": "StoreMagics",
        "sx": "OSMagics",
        "system": "OSMagics",
        "tb": "ExecutionMagics",
        "time": "ExecutionMagics",
        "timeit": "ExecutionMagics",
        "unalias": "OSMagics",
        "unload_ext": "ExtensionMagics",
        "who": "NamespaceMagics",
        "who_ls": "NamespaceMagics",
        "whos": "NamespaceMagics",
        "xdel": "NamespaceMagics",
        "xmode": "BasicMagics"
       }
      },
      "text/plain": [
       "Available line magics:\n",
       "%alias  %alias_magic  %autoawait  %autocall  %automagic  %autosave  %bookmark  %cd  %clear  %cls  %colors  %conda  %config  %connect_info  %copy  %ddir  %debug  %dhist  %dirs  %doctest_mode  %echo  %ed  %edit  %env  %gui  %hist  %history  %killbgscripts  %ldir  %less  %load  %load_ext  %loadpy  %logoff  %logon  %logstart  %logstate  %logstop  %ls  %lsmagic  %macro  %magic  %matplotlib  %mkdir  %more  %notebook  %page  %pastebin  %pdb  %pdef  %pdoc  %pfile  %pinfo  %pinfo2  %pip  %popd  %pprint  %precision  %prun  %psearch  %psource  %pushd  %pwd  %pycat  %pylab  %qtconsole  %quickref  %recall  %rehashx  %reload_ext  %ren  %rep  %rerun  %reset  %reset_selective  %rmdir  %run  %save  %sc  %set_env  %store  %sx  %system  %tb  %time  %timeit  %unalias  %unload_ext  %who  %who_ls  %whos  %xdel  %xmode\n",
       "\n",
       "Available cell magics:\n",
       "%%!  %%HTML  %%SVG  %%bash  %%capture  %%cmd  %%debug  %%file  %%html  %%javascript  %%js  %%latex  %%markdown  %%perl  %%prun  %%pypy  %%python  %%python2  %%python3  %%ruby  %%script  %%sh  %%svg  %%sx  %%system  %%time  %%timeit  %%writefile\n",
       "\n",
       "Automagic is ON, % prefix IS NOT needed for line magics."
      ]
     },
     "execution_count": 104,
     "metadata": {},
     "output_type": "execute_result"
    }
   ],
   "source": [
    "%lsmagic"
   ]
  },
  {
   "cell_type": "code",
   "execution_count": 103,
   "id": "518350ed-770e-43e9-8d88-30d07ba8a6ba",
   "metadata": {},
   "outputs": [],
   "source": [
    "a = \"\".join(text)"
   ]
  },
  {
   "cell_type": "code",
   "execution_count": 121,
   "id": "86a2c45e-74ff-4cf5-abcb-a607b2075970",
   "metadata": {},
   "outputs": [
    {
     "data": {
      "text/plain": [
       "0        42170\n",
       "1        42110\n",
       "2        42770\n",
       "3        42110\n",
       "4        42130\n",
       "         ...  \n",
       "95498    42110\n",
       "95499    42150\n",
       "95500    42720\n",
       "95501    42780\n",
       "95502    42110\n",
       "Name: 시군구코드, Length: 95503, dtype: int64"
      ]
     },
     "execution_count": 121,
     "metadata": {},
     "output_type": "execute_result"
    }
   ],
   "source": [
    "data['시군구코드']"
   ]
  },
  {
   "cell_type": "code",
   "execution_count": 80,
   "id": "00adf156-87f1-4b20-bafa-92b339c66265",
   "metadata": {},
   "outputs": [
    {
     "data": {
      "text/plain": [
       "'appl emelon'"
      ]
     },
     "execution_count": 80,
     "metadata": {},
     "output_type": "execute_result"
    }
   ],
   "source": [
    "a.strip()"
   ]
  },
  {
   "cell_type": "code",
   "execution_count": 37,
   "id": "3ad14dca-7215-4256-b016-f371688b98a8",
   "metadata": {},
   "outputs": [
    {
     "data": {
      "text/plain": [
       "1"
      ]
     },
     "execution_count": 37,
     "metadata": {},
     "output_type": "execute_result"
    }
   ],
   "source": [
    "a.count('b')"
   ]
  },
  {
   "cell_type": "code",
   "execution_count": 58,
   "id": "57a1984b-9e8c-40a7-992c-45904c6f63ca",
   "metadata": {},
   "outputs": [],
   "source": [
    "##\n",
    "a = ['apple','pineapple', 'apple']"
   ]
  },
  {
   "cell_type": "code",
   "execution_count": 59,
   "id": "d986b84b-74db-4a76-9edc-132490600c3d",
   "metadata": {},
   "outputs": [
    {
     "data": {
      "text/plain": [
       "'applepineappleapple'"
      ]
     },
     "execution_count": 59,
     "metadata": {},
     "output_type": "execute_result"
    }
   ],
   "source": [
    "\"\".join(a)"
   ]
  },
  {
   "cell_type": "code",
   "execution_count": 56,
   "id": "3ee2a27b-b8dc-4168-af2a-9becbfd53eff",
   "metadata": {},
   "outputs": [
    {
     "data": {
      "text/plain": [
       "'applepineappleapple'"
      ]
     },
     "execution_count": 56,
     "metadata": {},
     "output_type": "execute_result"
    }
   ],
   "source": [
    "\"\".join(b)"
   ]
  },
  {
   "cell_type": "code",
   "execution_count": 53,
   "id": "a7d56fc0-e441-48ce-bbfe-cc4d23478a76",
   "metadata": {},
   "outputs": [
    {
     "data": {
      "text/plain": [
       "3"
      ]
     },
     "execution_count": 53,
     "metadata": {},
     "output_type": "execute_result"
    }
   ],
   "source": [
    "\"\".join(\"\".join(a).split()).count('a')"
   ]
  },
  {
   "cell_type": "code",
   "execution_count": 40,
   "id": "77a71535-3d6f-4a53-88d8-a99a77f41ff8",
   "metadata": {},
   "outputs": [
    {
     "data": {
      "text/plain": [
       "2"
      ]
     },
     "execution_count": 40,
     "metadata": {},
     "output_type": "execute_result"
    }
   ],
   "source": [
    "a.count(\"apple\")"
   ]
  },
  {
   "cell_type": "markdown",
   "id": "4b60f61e-c6dd-4913-baa0-5891405db78a",
   "metadata": {},
   "source": [
    "## 불용어처리"
   ]
  },
  {
   "cell_type": "code",
   "execution_count": 12,
   "id": "a5c7051c-bcef-4de4-9018-ffc04caca77e",
   "metadata": {},
   "outputs": [
    {
     "name": "stdout",
     "output_type": "stream",
     "text": [
      "Requirement already satisfied: konlpy in c:\\users\\user\\anaconda3\\lib\\site-packages (0.6.0)\n",
      "Requirement already satisfied: numpy>=1.6 in c:\\users\\user\\anaconda3\\lib\\site-packages (from konlpy) (1.20.3)\n",
      "Requirement already satisfied: JPype1>=0.7.0 in c:\\users\\user\\anaconda3\\lib\\site-packages (from konlpy) (1.4.1)\n",
      "Requirement already satisfied: lxml>=4.1.0 in c:\\users\\user\\anaconda3\\lib\\site-packages (from konlpy) (4.6.3)\n",
      "Requirement already satisfied: packaging in c:\\users\\user\\anaconda3\\lib\\site-packages (from JPype1>=0.7.0->konlpy) (21.0)\n",
      "Requirement already satisfied: pyparsing>=2.0.2 in c:\\users\\user\\anaconda3\\lib\\site-packages (from packaging->JPype1>=0.7.0->konlpy) (3.0.4)\n",
      "Note: you may need to restart the kernel to use updated packages.\n"
     ]
    }
   ],
   "source": [
    "pip install konlpy"
   ]
  },
  {
   "cell_type": "code",
   "execution_count": 13,
   "id": "341396ef-d49b-491c-b45f-e1c10d7da12b",
   "metadata": {},
   "outputs": [],
   "source": [
    "from nltk.corpus import stopwords\n",
    "from nltk.tokenize import word_tokenize \n",
    "from konlpy.tag import Okt"
   ]
  },
  {
   "cell_type": "code",
   "execution_count": 37,
   "id": "99309914-4421-40e3-a082-19380d8d19e8",
   "metadata": {},
   "outputs": [],
   "source": [
    "okt = Okt()"
   ]
  },
  {
   "cell_type": "code",
   "execution_count": 43,
   "id": "a8e8ff09-8228-4853-8c2f-c276a22ee968",
   "metadata": {},
   "outputs": [],
   "source": [
    "mystopwords = ['대구통구이',\"홍어\",'멍청도']\n",
    "text = \"여론 조사 결과에 승복해라 대구통구이\""
   ]
  },
  {
   "cell_type": "code",
   "execution_count": 48,
   "id": "2181ba68-3bc3-4154-abee-cd28a7d22669",
   "metadata": {},
   "outputs": [
    {
     "data": {
      "text/plain": [
       "['여론', '여론 조사', '여론 조사 결과', '승복', '대구통구이', '조사', '결과', '대구', '통구이']"
      ]
     },
     "execution_count": 48,
     "metadata": {},
     "output_type": "execute_result"
    }
   ],
   "source": [
    "okt.phrases(text)"
   ]
  },
  {
   "cell_type": "code",
   "execution_count": 49,
   "id": "7491f9e3-d74a-47ad-a496-36db60d5fcb4",
   "metadata": {},
   "outputs": [
    {
     "data": {
      "text/plain": [
       "[('여론', 'Noun'),\n",
       " ('조사', 'Noun'),\n",
       " ('결과', 'Noun'),\n",
       " ('에', 'Josa'),\n",
       " ('승복', 'Noun'),\n",
       " ('해라', 'Verb'),\n",
       " ('대구', 'Noun'),\n",
       " ('통구이', 'Noun')]"
      ]
     },
     "execution_count": 49,
     "metadata": {},
     "output_type": "execute_result"
    }
   ],
   "source": [
    "okt.pos(text)"
   ]
  },
  {
   "cell_type": "code",
   "execution_count": 50,
   "id": "f980bcfe-ba35-4288-9650-dc51d98e5217",
   "metadata": {},
   "outputs": [
    {
     "data": {
      "text/plain": [
       "['여론', '조사', '결과', '에', '승복', '해라', '대구', '통구이']"
      ]
     },
     "execution_count": 50,
     "metadata": {},
     "output_type": "execute_result"
    }
   ],
   "source": [
    "okt.morphs(text)"
   ]
  },
  {
   "cell_type": "code",
   "execution_count": 51,
   "id": "91472d4a-c79d-4bbf-a107-9ab30c57a7e7",
   "metadata": {},
   "outputs": [
    {
     "data": {
      "text/plain": [
       "['여론', '조사', '결과', '승복', '대구', '통구이']"
      ]
     },
     "execution_count": 51,
     "metadata": {},
     "output_type": "execute_result"
    }
   ],
   "source": [
    "okt.nouns(text)"
   ]
  },
  {
   "cell_type": "code",
   "execution_count": 22,
   "id": "f0353595-1205-4cb8-a838-5856d6d43f2c",
   "metadata": {},
   "outputs": [],
   "source": [
    "split_text = text.split()"
   ]
  },
  {
   "cell_type": "code",
   "execution_count": 29,
   "id": "2336f724-d923-48ca-a6fc-72b19b326d02",
   "metadata": {},
   "outputs": [],
   "source": [
    "real_text = []\n",
    "for i in split_text:\n",
    "    if i not in mystopwords:\n",
    "        real_text.append(i)"
   ]
  },
  {
   "cell_type": "code",
   "execution_count": 33,
   "id": "7d821c20-a1b3-42a2-8e84-1768ede2d3ca",
   "metadata": {},
   "outputs": [],
   "source": [
    "final_text = \" \".join(real_text)"
   ]
  },
  {
   "cell_type": "code",
   "execution_count": 53,
   "id": "7fe8ad73-061e-459f-b223-94896af12ee4",
   "metadata": {},
   "outputs": [],
   "source": [
    "test ='여론 조사 결과 에 승복 해라 들 아'"
   ]
  },
  {
   "cell_type": "code",
   "execution_count": 61,
   "id": "88e71c69-761e-4d74-93dd-20856912c5fc",
   "metadata": {},
   "outputs": [
    {
     "data": {
      "text/plain": [
       "['여론', '조사', '결과', '에', '승복', '해라', '들', '아']"
      ]
     },
     "execution_count": 61,
     "metadata": {},
     "output_type": "execute_result"
    }
   ],
   "source": [
    "test.split(\" \")"
   ]
  },
  {
   "cell_type": "code",
   "execution_count": 84,
   "id": "4e13b05d-9d61-4512-bb8a-e8fd0f738eca",
   "metadata": {},
   "outputs": [],
   "source": [
    "text = []\n",
    "for i in range(0,6,2):\n",
    "    text.append(test.split(\" \")[i] +test.split(\" \")[i+1])\n",
    "text = \" \".join(text)"
   ]
  },
  {
   "cell_type": "code",
   "execution_count": 87,
   "id": "ae508774-25f2-427a-9556-d42259ce0da0",
   "metadata": {},
   "outputs": [
    {
     "name": "stdout",
     "output_type": "stream",
     "text": [
      "0\n",
      "2\n",
      "4\n"
     ]
    }
   ],
   "source": [
    "for i in range(0,6,2):\n",
    "    print(i)"
   ]
  },
  {
   "cell_type": "code",
   "execution_count": 102,
   "id": "8bb93294-bd39-4ee8-ba99-1c7685363ddc",
   "metadata": {},
   "outputs": [],
   "source": [
    "a = [1,2,3]"
   ]
  },
  {
   "cell_type": "code",
   "execution_count": 109,
   "id": "d64cb182-f153-4e6f-b71f-3dffd282fd94",
   "metadata": {},
   "outputs": [],
   "source": [
    "a.insert(2,4)"
   ]
  },
  {
   "cell_type": "code",
   "execution_count": 110,
   "id": "f22b3726-2fe4-4a22-84a0-931a60b4b43c",
   "metadata": {},
   "outputs": [
    {
     "data": {
      "text/plain": [
       "[1, 2, 4]"
      ]
     },
     "execution_count": 110,
     "metadata": {},
     "output_type": "execute_result"
    }
   ],
   "source": [
    "a"
   ]
  },
  {
   "cell_type": "code",
   "execution_count": 111,
   "id": "a3bc0ae6-b759-48cd-868e-ffbcc04a11b4",
   "metadata": {},
   "outputs": [
    {
     "data": {
      "text/plain": [
       "4"
      ]
     },
     "execution_count": 111,
     "metadata": {},
     "output_type": "execute_result"
    }
   ],
   "source": [
    "a.pop()"
   ]
  },
  {
   "cell_type": "code",
   "execution_count": 112,
   "id": "f3e0f37a-295a-419e-8401-bafb2f6dba4b",
   "metadata": {},
   "outputs": [
    {
     "data": {
      "text/plain": [
       "[1, 2]"
      ]
     },
     "execution_count": 112,
     "metadata": {},
     "output_type": "execute_result"
    }
   ],
   "source": [
    "a"
   ]
  },
  {
   "cell_type": "code",
   "execution_count": 76,
   "id": "785b0d78-c240-4c03-8fdc-c6a98dc8d44e",
   "metadata": {},
   "outputs": [
    {
     "data": {
      "text/plain": [
       "'여론조사'"
      ]
     },
     "execution_count": 76,
     "metadata": {},
     "output_type": "execute_result"
    }
   ],
   "source": [
    "test.split(\" \")[0] +test.split(\" \")[1]"
   ]
  },
  {
   "cell_type": "code",
   "execution_count": 77,
   "id": "1ff4ce94-966b-4778-9b50-b7e231402719",
   "metadata": {},
   "outputs": [
    {
     "data": {
      "text/plain": [
       "'결과에'"
      ]
     },
     "execution_count": 77,
     "metadata": {},
     "output_type": "execute_result"
    }
   ],
   "source": [
    "test.split(\" \")[2] +test.split(\" \")[3]"
   ]
  },
  {
   "cell_type": "code",
   "execution_count": 78,
   "id": "45309720-06bb-4d39-a792-24a8cbef4e1a",
   "metadata": {},
   "outputs": [
    {
     "data": {
      "text/plain": [
       "'승복해라'"
      ]
     },
     "execution_count": 78,
     "metadata": {},
     "output_type": "execute_result"
    }
   ],
   "source": [
    "test.split(\" \")[4] +test.split(\" \")[5]"
   ]
  },
  {
   "cell_type": "code",
   "execution_count": 128,
   "id": "57465c48-7e2c-41ae-8f43-85269e0f9668",
   "metadata": {},
   "outputs": [],
   "source": [
    "A_st_score = [100, 80, 90]"
   ]
  },
  {
   "cell_type": "code",
   "execution_count": 129,
   "id": "32c76fb6-4e59-44fe-be51-2dbe2099d6a5",
   "metadata": {},
   "outputs": [
    {
     "data": {
      "text/plain": [
       "[100, 80, 90]"
      ]
     },
     "execution_count": 129,
     "metadata": {},
     "output_type": "execute_result"
    }
   ],
   "source": [
    "A_st_score"
   ]
  },
  {
   "cell_type": "code",
   "execution_count": 130,
   "id": "7a9c0d8a-32bd-42f0-bdb3-5051964def15",
   "metadata": {},
   "outputs": [
    {
     "data": {
      "text/plain": [
       "80"
      ]
     },
     "execution_count": 130,
     "metadata": {},
     "output_type": "execute_result"
    }
   ],
   "source": [
    "A_st_score[1]"
   ]
  },
  {
   "cell_type": "code",
   "execution_count": 133,
   "id": "f9b702cd-af00-4e8b-abb6-c2817b4d4fa1",
   "metadata": {},
   "outputs": [
    {
     "name": "stdout",
     "output_type": "stream",
     "text": [
      "수현학생 점수: 80\n"
     ]
    }
   ],
   "source": [
    "print(f\"수현학생 점수: {A_st_score[1]}\")"
   ]
  },
  {
   "cell_type": "code",
   "execution_count": 148,
   "id": "c5042aa0-04a3-4ca8-ae4f-83efdf11e167",
   "metadata": {},
   "outputs": [],
   "source": [
    "a_student = {'국':100, \"영\":80, '수':70}"
   ]
  },
  {
   "cell_type": "code",
   "execution_count": 163,
   "id": "03e53d2a-982c-4cd6-baa3-19d5798156cb",
   "metadata": {},
   "outputs": [],
   "source": [
    "col = a_student.keys()"
   ]
  },
  {
   "cell_type": "code",
   "execution_count": 166,
   "id": "cfb86910-6e5e-48b1-9329-7f0dbd645625",
   "metadata": {},
   "outputs": [
    {
     "data": {
      "text/plain": [
       "['국', '영', '수']"
      ]
     },
     "execution_count": 166,
     "metadata": {},
     "output_type": "execute_result"
    }
   ],
   "source": [
    "list(col)"
   ]
  },
  {
   "cell_type": "code",
   "execution_count": 161,
   "id": "2ecb0b31-c64b-466c-9d3e-51dd6ca245fd",
   "metadata": {},
   "outputs": [
    {
     "data": {
      "text/html": [
       "<div>\n",
       "<style scoped>\n",
       "    .dataframe tbody tr th:only-of-type {\n",
       "        vertical-align: middle;\n",
       "    }\n",
       "\n",
       "    .dataframe tbody tr th {\n",
       "        vertical-align: top;\n",
       "    }\n",
       "\n",
       "    .dataframe thead th {\n",
       "        text-align: right;\n",
       "    }\n",
       "</style>\n",
       "<table border=\"1\" class=\"dataframe\">\n",
       "  <thead>\n",
       "    <tr style=\"text-align: right;\">\n",
       "      <th></th>\n",
       "      <th>점수</th>\n",
       "    </tr>\n",
       "  </thead>\n",
       "  <tbody>\n",
       "    <tr>\n",
       "      <th>국</th>\n",
       "      <td>100</td>\n",
       "    </tr>\n",
       "    <tr>\n",
       "      <th>영</th>\n",
       "      <td>80</td>\n",
       "    </tr>\n",
       "    <tr>\n",
       "      <th>수</th>\n",
       "      <td>70</td>\n",
       "    </tr>\n",
       "  </tbody>\n",
       "</table>\n",
       "</div>"
      ],
      "text/plain": [
       "    점수\n",
       "국  100\n",
       "영   80\n",
       "수   70"
      ]
     },
     "execution_count": 161,
     "metadata": {},
     "output_type": "execute_result"
    }
   ],
   "source": [
    "pd.DataFrame.from_dict(a_student, orient='index', columns=['점수'])"
   ]
  },
  {
   "cell_type": "code",
   "execution_count": 160,
   "id": "c7accbec-704a-40b4-8ea8-e2f88fb4c5a1",
   "metadata": {},
   "outputs": [
    {
     "data": {
      "text/plain": [
       "dict_values([100, 80, 70])"
      ]
     },
     "execution_count": 160,
     "metadata": {},
     "output_type": "execute_result"
    }
   ],
   "source": [
    "a_student.values()"
   ]
  },
  {
   "cell_type": "code",
   "execution_count": 146,
   "id": "9aa2f6ae-05aa-4194-9376-4dae5491a2ca",
   "metadata": {},
   "outputs": [
    {
     "data": {
      "text/plain": [
       "80"
      ]
     },
     "execution_count": 146,
     "metadata": {},
     "output_type": "execute_result"
    }
   ],
   "source": [
    "a_student['영']"
   ]
  },
  {
   "cell_type": "code",
   "execution_count": 141,
   "id": "fe4c66c6-53cf-43da-8dd7-0a84949b3c00",
   "metadata": {
    "tags": []
   },
   "outputs": [
    {
     "name": "stdout",
     "output_type": "stream",
     "text": [
      "Index(['상가업소번호', '상호명', '지점명', '상권업종대분류코드', '상권업종대분류명', '상권업종중분류코드',\n",
      "       '상권업종중분류명', '상권업종소분류코드', '상권업종소분류명', '표준산업분류코드', '표준산업분류명', '시도코드',\n",
      "       '시도명', '시군구코드', '시군구명', '행정동코드', '행정동명', '법정동코드', '법정동명', '지번코드',\n",
      "       '대지구분코드', '대지구분명', '지번본번지', '지번부번지', '지번주소', '도로명코드', '도로명', '건물본번지',\n",
      "       '건물부번지', '건물관리번호', '건물명', '도로명주소', '구우편번호', '신우편번호', '동정보', '층정보',\n",
      "       '호정보', '경도', '위도'],\n",
      "      dtype='object')\n"
     ]
    }
   ],
   "source": [
    "import pprint\n",
    "pprint.pprint(data.columns, indent=4, width=80)"
   ]
  },
  {
   "cell_type": "code",
   "execution_count": 185,
   "id": "fbf05803-a417-4d96-b76f-b74824b4be41",
   "metadata": {},
   "outputs": [],
   "source": [
    "import pprint"
   ]
  },
  {
   "cell_type": "code",
   "execution_count": 169,
   "id": "8290fc29-2983-4e85-a33e-895c8ddd7d1c",
   "metadata": {},
   "outputs": [],
   "source": [
    "from sklearn.datasets import load_iris"
   ]
  },
  {
   "cell_type": "code",
   "execution_count": 184,
   "id": "86bd3e71-8803-4624-9304-7a609157597d",
   "metadata": {},
   "outputs": [
    {
     "name": "stdout",
     "output_type": "stream",
     "text": [
      ".. _iris_dataset:\n",
      "\n",
      "Iris plants dataset\n",
      "--------------------\n",
      "\n",
      "**Data Set Characteristics:**\n",
      "\n",
      "    :Number of Instances: 150 (50 in each of three classes)\n",
      "    :Number of Attributes: 4 numeric, predictive attributes and the class\n",
      "    :Attribute Information:\n",
      "        - sepal length in cm\n",
      "        - sepal width in cm\n",
      "        - petal length in cm\n",
      "        - petal width in cm\n",
      "        - class:\n",
      "                - Iris-Setosa\n",
      "                - Iris-Versicolour\n",
      "                - Iris-Virginica\n",
      "                \n",
      "    :Summary Statistics:\n",
      "\n",
      "    ============== ==== ==== ======= ===== ====================\n",
      "                    Min  Max   Mean    SD   Class Correlation\n",
      "    ============== ==== ==== ======= ===== ====================\n",
      "    sepal length:   4.3  7.9   5.84   0.83    0.7826\n",
      "    sepal width:    2.0  4.4   3.05   0.43   -0.4194\n",
      "    petal length:   1.0  6.9   3.76   1.76    0.9490  (high!)\n",
      "    petal width:    0.1  2.5   1.20   0.76    0.9565  (high!)\n",
      "    ============== ==== ==== ======= ===== ====================\n",
      "\n",
      "    :Missing Attribute Values: None\n",
      "    :Class Distribution: 33.3% for each of 3 classes.\n",
      "    :Creator: R.A. Fisher\n",
      "    :Donor: Michael Marshall (MARSHALL%PLU@io.arc.nasa.gov)\n",
      "    :Date: July, 1988\n",
      "\n",
      "The famous Iris database, first used by Sir R.A. Fisher. The dataset is taken\n",
      "from Fisher's paper. Note that it's the same as in R, but not as in the UCI\n",
      "Machine Learning Repository, which has two wrong data points.\n",
      "\n",
      "This is perhaps the best known database to be found in the\n",
      "pattern recognition literature.  Fisher's paper is a classic in the field and\n",
      "is referenced frequently to this day.  (See Duda & Hart, for example.)  The\n",
      "data set contains 3 classes of 50 instances each, where each class refers to a\n",
      "type of iris plant.  One class is linearly separable from the other 2; the\n",
      "latter are NOT linearly separable from each other.\n",
      "\n",
      ".. topic:: References\n",
      "\n",
      "   - Fisher, R.A. \"The use of multiple measurements in taxonomic problems\"\n",
      "     Annual Eugenics, 7, Part II, 179-188 (1936); also in \"Contributions to\n",
      "     Mathematical Statistics\" (John Wiley, NY, 1950).\n",
      "   - Duda, R.O., & Hart, P.E. (1973) Pattern Classification and Scene Analysis.\n",
      "     (Q327.D83) John Wiley & Sons.  ISBN 0-471-22361-1.  See page 218.\n",
      "   - Dasarathy, B.V. (1980) \"Nosing Around the Neighborhood: A New System\n",
      "     Structure and Classification Rule for Recognition in Partially Exposed\n",
      "     Environments\".  IEEE Transactions on Pattern Analysis and Machine\n",
      "     Intelligence, Vol. PAMI-2, No. 1, 67-71.\n",
      "   - Gates, G.W. (1972) \"The Reduced Nearest Neighbor Rule\".  IEEE Transactions\n",
      "     on Information Theory, May 1972, 431-433.\n",
      "   - See also: 1988 MLC Proceedings, 54-64.  Cheeseman et al\"s AUTOCLASS II\n",
      "     conceptual clustering system finds 3 classes in the data.\n",
      "   - Many, many more ...\n"
     ]
    }
   ],
   "source": [
    "print(iris.DESCR)"
   ]
  },
  {
   "cell_type": "code",
   "execution_count": 171,
   "id": "a7beb6e1-ccd5-467b-b50c-db59dbb08862",
   "metadata": {},
   "outputs": [],
   "source": [
    "iris = load_iris()"
   ]
  },
  {
   "cell_type": "code",
   "execution_count": 176,
   "id": "a00d03ad-6c45-4338-8958-256b0b68f9de",
   "metadata": {},
   "outputs": [
    {
     "data": {
      "text/html": [
       "<div>\n",
       "<style scoped>\n",
       "    .dataframe tbody tr th:only-of-type {\n",
       "        vertical-align: middle;\n",
       "    }\n",
       "\n",
       "    .dataframe tbody tr th {\n",
       "        vertical-align: top;\n",
       "    }\n",
       "\n",
       "    .dataframe thead th {\n",
       "        text-align: right;\n",
       "    }\n",
       "</style>\n",
       "<table border=\"1\" class=\"dataframe\">\n",
       "  <thead>\n",
       "    <tr style=\"text-align: right;\">\n",
       "      <th></th>\n",
       "      <th>sepal length (cm)</th>\n",
       "      <th>sepal width (cm)</th>\n",
       "      <th>petal length (cm)</th>\n",
       "      <th>petal width (cm)</th>\n",
       "    </tr>\n",
       "  </thead>\n",
       "  <tbody>\n",
       "    <tr>\n",
       "      <th>0</th>\n",
       "      <td>5.1</td>\n",
       "      <td>3.5</td>\n",
       "      <td>1.4</td>\n",
       "      <td>0.2</td>\n",
       "    </tr>\n",
       "    <tr>\n",
       "      <th>1</th>\n",
       "      <td>4.9</td>\n",
       "      <td>3.0</td>\n",
       "      <td>1.4</td>\n",
       "      <td>0.2</td>\n",
       "    </tr>\n",
       "    <tr>\n",
       "      <th>2</th>\n",
       "      <td>4.7</td>\n",
       "      <td>3.2</td>\n",
       "      <td>1.3</td>\n",
       "      <td>0.2</td>\n",
       "    </tr>\n",
       "    <tr>\n",
       "      <th>3</th>\n",
       "      <td>4.6</td>\n",
       "      <td>3.1</td>\n",
       "      <td>1.5</td>\n",
       "      <td>0.2</td>\n",
       "    </tr>\n",
       "    <tr>\n",
       "      <th>4</th>\n",
       "      <td>5.0</td>\n",
       "      <td>3.6</td>\n",
       "      <td>1.4</td>\n",
       "      <td>0.2</td>\n",
       "    </tr>\n",
       "    <tr>\n",
       "      <th>...</th>\n",
       "      <td>...</td>\n",
       "      <td>...</td>\n",
       "      <td>...</td>\n",
       "      <td>...</td>\n",
       "    </tr>\n",
       "    <tr>\n",
       "      <th>145</th>\n",
       "      <td>6.7</td>\n",
       "      <td>3.0</td>\n",
       "      <td>5.2</td>\n",
       "      <td>2.3</td>\n",
       "    </tr>\n",
       "    <tr>\n",
       "      <th>146</th>\n",
       "      <td>6.3</td>\n",
       "      <td>2.5</td>\n",
       "      <td>5.0</td>\n",
       "      <td>1.9</td>\n",
       "    </tr>\n",
       "    <tr>\n",
       "      <th>147</th>\n",
       "      <td>6.5</td>\n",
       "      <td>3.0</td>\n",
       "      <td>5.2</td>\n",
       "      <td>2.0</td>\n",
       "    </tr>\n",
       "    <tr>\n",
       "      <th>148</th>\n",
       "      <td>6.2</td>\n",
       "      <td>3.4</td>\n",
       "      <td>5.4</td>\n",
       "      <td>2.3</td>\n",
       "    </tr>\n",
       "    <tr>\n",
       "      <th>149</th>\n",
       "      <td>5.9</td>\n",
       "      <td>3.0</td>\n",
       "      <td>5.1</td>\n",
       "      <td>1.8</td>\n",
       "    </tr>\n",
       "  </tbody>\n",
       "</table>\n",
       "<p>150 rows × 4 columns</p>\n",
       "</div>"
      ],
      "text/plain": [
       "     sepal length (cm)  sepal width (cm)  petal length (cm)  petal width (cm)\n",
       "0                  5.1               3.5                1.4               0.2\n",
       "1                  4.9               3.0                1.4               0.2\n",
       "2                  4.7               3.2                1.3               0.2\n",
       "3                  4.6               3.1                1.5               0.2\n",
       "4                  5.0               3.6                1.4               0.2\n",
       "..                 ...               ...                ...               ...\n",
       "145                6.7               3.0                5.2               2.3\n",
       "146                6.3               2.5                5.0               1.9\n",
       "147                6.5               3.0                5.2               2.0\n",
       "148                6.2               3.4                5.4               2.3\n",
       "149                5.9               3.0                5.1               1.8\n",
       "\n",
       "[150 rows x 4 columns]"
      ]
     },
     "execution_count": 176,
     "metadata": {},
     "output_type": "execute_result"
    }
   ],
   "source": [
    "pd.DataFrame(iris.data, columns=iris.feature_names)"
   ]
  },
  {
   "cell_type": "code",
   "execution_count": 189,
   "id": "6e624329-9004-479a-b810-c3c836549682",
   "metadata": {},
   "outputs": [],
   "source": [
    "a = \"Life is too short\"\n",
    "b = a.encode('utf-8')"
   ]
  },
  {
   "cell_type": "code",
   "execution_count": 193,
   "id": "c936dd3a-3a77-4e4a-bbfa-3931fe3963e6",
   "metadata": {},
   "outputs": [],
   "source": [
    "def mul3(n):\n",
    "    return n * 3"
   ]
  },
  {
   "cell_type": "code",
   "execution_count": 207,
   "id": "5255e1f2-df50-4787-8ce6-8b5560a95388",
   "metadata": {},
   "outputs": [
    {
     "name": "stdout",
     "output_type": "stream",
     "text": [
      "ok\n"
     ]
    }
   ],
   "source": [
    "result = True\n",
    "if result == eval(\"True\"):\n",
    "    print('ok')\n",
    "elif result == False:\n",
    "    print(\"no\")"
   ]
  },
  {
   "cell_type": "code",
   "execution_count": 211,
   "id": "7074efd9-acc6-4688-b75c-8edc6cfdfef3",
   "metadata": {},
   "outputs": [
    {
     "data": {
      "text/plain": [
       "False"
      ]
     },
     "execution_count": 211,
     "metadata": {},
     "output_type": "execute_result"
    }
   ],
   "source": [
    "1 != 1"
   ]
  },
  {
   "cell_type": "code",
   "execution_count": 273,
   "id": "79826618-4b5a-4365-b7fe-2ba47d6da8c7",
   "metadata": {},
   "outputs": [],
   "source": [
    "a = [1, 2, 3]\n",
    "b = a[:]\n",
    "b = a.copy()\n",
    "a[1] = 4"
   ]
  },
  {
   "cell_type": "code",
   "execution_count": 274,
   "id": "2d64dc20-d8de-4f8a-a5fd-c551986e7d33",
   "metadata": {},
   "outputs": [
    {
     "data": {
      "text/plain": [
       "([1, 4, 3], [1, 2, 3])"
      ]
     },
     "execution_count": 274,
     "metadata": {},
     "output_type": "execute_result"
    }
   ],
   "source": [
    "a, b"
   ]
  },
  {
   "cell_type": "code",
   "execution_count": 257,
   "id": "d1ce1ba5-dd5d-4e2d-87ed-6c42c68daf04",
   "metadata": {},
   "outputs": [],
   "source": [
    "b = a.copy()"
   ]
  },
  {
   "cell_type": "code",
   "execution_count": 275,
   "id": "69aec77e-9581-4128-861f-e3458e65162f",
   "metadata": {},
   "outputs": [
    {
     "data": {
      "text/plain": [
       "([1, 4, 3], [1, 2, 3])"
      ]
     },
     "execution_count": 275,
     "metadata": {},
     "output_type": "execute_result"
    }
   ],
   "source": [
    "a, b"
   ]
  },
  {
   "cell_type": "code",
   "execution_count": 334,
   "id": "3e085fae-494d-4796-baa0-882aaa993081",
   "metadata": {},
   "outputs": [
    {
     "name": "stdout",
     "output_type": "stream",
     "text": [
      "C:\\Users\\USER\n"
     ]
    }
   ],
   "source": [
    "cd"
   ]
  },
  {
   "cell_type": "code",
   "execution_count": 282,
   "id": "316ef3a7-eea0-4528-af19-e06b13aa39d3",
   "metadata": {},
   "outputs": [
    {
     "data": {
      "text/plain": [
       "'C:\\\\Users\\\\USER\\\\seung_hyun\\\\folder\\\\할리스_커피_지점_정보.csv'"
      ]
     },
     "execution_count": 282,
     "metadata": {},
     "output_type": "execute_result"
    }
   ],
   "source": [
    "absolute_path"
   ]
  },
  {
   "cell_type": "code",
   "execution_count": 354,
   "id": "dc9efd55-7e97-44db-909d-3c77ae1a6597",
   "metadata": {
    "tags": []
   },
   "outputs": [],
   "source": [
    "test = pd.read_csv('인공지능.csv',encoding='euc-kr')"
   ]
  },
  {
   "cell_type": "code",
   "execution_count": 5,
   "id": "afd08999-3537-4d55-82ff-8868fac770be",
   "metadata": {},
   "outputs": [],
   "source": [
    "import os"
   ]
  },
  {
   "cell_type": "code",
   "execution_count": 7,
   "id": "7b0e0971-ce79-4805-968a-1d6221c73d51",
   "metadata": {},
   "outputs": [],
   "source": [
    "def filesearch():\n",
    "    filename = input()\n",
    "    relative_path = os.path.join(\"folder\", filename)\n",
    "    absolute_path = os.path.abspath(relative_path)\n",
    "\n",
    "    print(absolute_path)"
   ]
  },
  {
   "cell_type": "code",
   "execution_count": 19,
   "id": "ca788d2a-1305-4e95-9984-50b6af13df3d",
   "metadata": {},
   "outputs": [],
   "source": [
    "a = [1,2,3]"
   ]
  },
  {
   "cell_type": "code",
   "execution_count": 20,
   "id": "a8ab3825-c3ce-4c75-a55d-c3017b57c927",
   "metadata": {},
   "outputs": [],
   "source": [
    "a[1] = 4"
   ]
  },
  {
   "cell_type": "code",
   "execution_count": 25,
   "id": "f314f92e-9469-4e53-8826-f75cdaf8350c",
   "metadata": {},
   "outputs": [],
   "source": [
    "a = iter(a)"
   ]
  },
  {
   "cell_type": "code",
   "execution_count": 29,
   "id": "599fbbde-4dac-4ae3-b8ca-41888c414851",
   "metadata": {},
   "outputs": [],
   "source": [
    "a = range(1,6)"
   ]
  },
  {
   "cell_type": "code",
   "execution_count": 32,
   "id": "10e1c9a9-92fc-4062-a827-96208b95c729",
   "metadata": {},
   "outputs": [
    {
     "data": {
      "text/plain": [
       "range(1, 6)"
      ]
     },
     "execution_count": 32,
     "metadata": {},
     "output_type": "execute_result"
    }
   ],
   "source": [
    "a"
   ]
  },
  {
   "cell_type": "code",
   "execution_count": 35,
   "id": "88816aca-1016-457c-92a1-3f70af2448cf",
   "metadata": {},
   "outputs": [],
   "source": [
    "a = list(a)"
   ]
  },
  {
   "cell_type": "code",
   "execution_count": 28,
   "id": "b8552f02-6789-4d5a-a9ff-dd3c3bc77d83",
   "metadata": {},
   "outputs": [
    {
     "data": {
      "text/plain": [
       "1"
      ]
     },
     "execution_count": 28,
     "metadata": {},
     "output_type": "execute_result"
    }
   ],
   "source": [
    "next(a)"
   ]
  },
  {
   "cell_type": "code",
   "execution_count": null,
   "id": "7102d606-2124-40e4-83f4-10c267ec0f4a",
   "metadata": {},
   "outputs": [],
   "source": [
    "pd.options"
   ]
  },
  {
   "cell_type": "code",
   "execution_count": 18,
   "id": "64230414-a209-42a4-bd30-37e78d7a7dff",
   "metadata": {},
   "outputs": [
    {
     "data": {
      "text/plain": [
       "3"
      ]
     },
     "execution_count": 18,
     "metadata": {},
     "output_type": "execute_result"
    }
   ],
   "source": [
    "eval('1 + 2')"
   ]
  },
  {
   "cell_type": "code",
   "execution_count": 304,
   "id": "9a45bbbc-98f7-4925-b709-9a1329f2d178",
   "metadata": {},
   "outputs": [],
   "source": [
    "money = 0"
   ]
  },
  {
   "cell_type": "code",
   "execution_count": 90,
   "id": "a08700ec-1816-4b3d-9385-287d95f0882b",
   "metadata": {},
   "outputs": [
    {
     "name": "stdout",
     "output_type": "stream",
     "text": [
      "Collecting emoji\n",
      "  Downloading emoji-2.4.0.tar.gz (353 kB)\n",
      "Building wheels for collected packages: emoji\n",
      "  Building wheel for emoji (setup.py): started\n",
      "  Building wheel for emoji (setup.py): finished with status 'done'\n",
      "  Created wheel for emoji: filename=emoji-2.4.0-py2.py3-none-any.whl size=350826 sha256=d6b4da6294bc261d1394251f3fceda32c667c5778b4a3353597600d47cb1b173\n",
      "  Stored in directory: c:\\users\\user\\appdata\\local\\pip\\cache\\wheels\\d5\\c5\\45\\6c3b2e538c10e9667495d6bff243ee0a296c3c246478007df3\n",
      "Successfully built emoji\n",
      "Installing collected packages: emoji\n",
      "Successfully installed emoji-2.4.0\n",
      "Note: you may need to restart the kernel to use updated packages.\n"
     ]
    }
   ],
   "source": [
    "pip install emoji"
   ]
  },
  {
   "cell_type": "code",
   "execution_count": 92,
   "id": "4dede638-ad26-4dcb-b402-17257cc1c8dc",
   "metadata": {},
   "outputs": [
    {
     "data": {
      "text/plain": [
       "'🚌'"
      ]
     },
     "execution_count": 92,
     "metadata": {},
     "output_type": "execute_result"
    }
   ],
   "source": [
    "\"🚌\""
   ]
  },
  {
   "cell_type": "code",
   "execution_count": 314,
   "id": "437dc12b-82d0-4213-9068-b2afd64dedd4",
   "metadata": {},
   "outputs": [],
   "source": [
    "def money():\n",
    "    try:\n",
    "        money = int(input('얼마 있니? '))\n",
    "        if money > 0:\n",
    "            print(\"택시타고가\")\n",
    "\n",
    "    except:\n",
    "        print(\"얼마 있는지 다시알려줄래?\")"
   ]
  },
  {
   "cell_type": "code",
   "execution_count": 365,
   "id": "803d5de0-012d-4980-a231-beafc5258444",
   "metadata": {},
   "outputs": [],
   "source": [
    "def money():\n",
    "    try:\n",
    "        money = int(\"\".join(re.findall(r'\\d+',input('얼마 있니? '))))\n",
    "        if money > 0:\n",
    "            print(f\"{money}원 이면 많노~ 택시타고 가제이\")\n",
    "\n",
    "    except:\n",
    "        print(\"얼마 있는지 다시알려줄래?\")\n",
    "        money = int(\"\".join(re.findall(r'\\d+',input('얼마 있니? '))))\n",
    "        if money > 0:\n",
    "            print(f\"{money}원 이면 많노~ 택시타고 가제이\")\n"
   ]
  },
  {
   "cell_type": "code",
   "execution_count": 95,
   "id": "a3bdf2ef-84a0-4793-9bd8-f03a61f3c989",
   "metadata": {},
   "outputs": [],
   "source": [
    "import re"
   ]
  },
  {
   "cell_type": "code",
   "execution_count": 96,
   "id": "5a6f4f4d-66b9-42ff-985e-6cdabd21f18a",
   "metadata": {},
   "outputs": [],
   "source": [
    "class taxi:\n",
    "    def __init__(self):\n",
    "        self.money = int(\"\".join(re.findall(r'\\d+',input('얼마 있니? '))))\n",
    "        if 4800 < self.money  :\n",
    "            print(f\"{self.money}원 이면 택시🚕타고 가제이\")\n",
    "        elif 1200 < self.money < 4700 :\n",
    "            print(\"너는 버스🚌에 가야겠다\")\n",
    "        else:\n",
    "            print(\"걸어가🦵 임마\")"
   ]
  },
  {
   "cell_type": "code",
   "execution_count": 97,
   "id": "cd37da43-4ac5-44b3-9939-0e8ee9bc3689",
   "metadata": {},
   "outputs": [
    {
     "name": "stdin",
     "output_type": "stream",
     "text": [
      "얼마 있니?  100\n"
     ]
    },
    {
     "name": "stdout",
     "output_type": "stream",
     "text": [
      "걸어가🦵 임마\n"
     ]
    }
   ],
   "source": [
    "people1 = taxi()"
   ]
  },
  {
   "cell_type": "code",
   "execution_count": 98,
   "id": "11e9476e-5abf-44b3-8a66-5e1bfe2647f6",
   "metadata": {},
   "outputs": [
    {
     "name": "stdin",
     "output_type": "stream",
     "text": [
      "얼마 있니?  2000\n"
     ]
    },
    {
     "name": "stdout",
     "output_type": "stream",
     "text": [
      "너는 버스🚌에 가야겠다\n"
     ]
    }
   ],
   "source": [
    "people2 = taxi()"
   ]
  },
  {
   "cell_type": "code",
   "execution_count": 99,
   "id": "d7267979-bca1-481e-8569-3b447cecf3e2",
   "metadata": {},
   "outputs": [
    {
     "name": "stdin",
     "output_type": "stream",
     "text": [
      "얼마 있니?  30000\n"
     ]
    },
    {
     "name": "stdout",
     "output_type": "stream",
     "text": [
      "30000원 이면 택시🚕타고 가제이\n"
     ]
    }
   ],
   "source": [
    "people3 = taxi()"
   ]
  },
  {
   "cell_type": "code",
   "execution_count": 2,
   "id": "1f6317a7-1fec-4e47-85e1-9a395d680c64",
   "metadata": {},
   "outputs": [],
   "source": [
    "import pandas as pd"
   ]
  },
  {
   "cell_type": "code",
   "execution_count": 8,
   "id": "3323bfee-c1e9-4d54-b935-add61e718f84",
   "metadata": {},
   "outputs": [
    {
     "name": "stdin",
     "output_type": "stream",
     "text": [
      " sejong_covid.csv\n"
     ]
    },
    {
     "name": "stdout",
     "output_type": "stream",
     "text": [
      "C:\\Users\\USER\\seung_hyun\\folder\\sejong_covid.csv\n"
     ]
    }
   ],
   "source": [
    "filesearch()"
   ]
  },
  {
   "cell_type": "code",
   "execution_count": 40,
   "id": "49f131aa-6125-4bde-8f32-9814bb81fe4a",
   "metadata": {},
   "outputs": [],
   "source": [
    "test = pd.read_csv(\"../sejong_covid.csv\",encoding='euc-kr')"
   ]
  },
  {
   "cell_type": "code",
   "execution_count": 74,
   "id": "49c1ddf6-c5f1-483b-af84-e325fbd7fd11",
   "metadata": {},
   "outputs": [
    {
     "name": "stdout",
     "output_type": "stream",
     "text": [
      "합격\n",
      "합격\n"
     ]
    }
   ],
   "source": [
    "english = 90\n",
    "korean = 100\n",
    "if korean >= 80 and english >= 90 :\n",
    "    print(\"합격\")\n",
    "if korean >= 80 and english >= 90 :\n",
    "    print(\"합격\")"
   ]
  },
  {
   "cell_type": "code",
   "execution_count": 105,
   "id": "a116e552-5a62-4ca9-8d7b-a9d17899d990",
   "metadata": {},
   "outputs": [],
   "source": [
    "import random"
   ]
  },
  {
   "cell_type": "code",
   "execution_count": 120,
   "id": "1f23eb7c-9ccc-4430-bf7b-731e346c3c32",
   "metadata": {},
   "outputs": [],
   "source": [
    "temps = []\n",
    "for i in range(5):\n",
    "    temps.append(random.randint(20,30))"
   ]
  },
  {
   "cell_type": "code",
   "execution_count": 124,
   "id": "a95764d7-5168-4de4-b358-7c6f04deba62",
   "metadata": {},
   "outputs": [
    {
     "name": "stdout",
     "output_type": "stream",
     "text": [
      "온도: 27 | Cooler 동작중\n"
     ]
    }
   ],
   "source": [
    "for temp in temps:\n",
    "    if temp >  25:\n",
    "        print(f\"온도: {temp} | Cooler 동작중\")"
   ]
  },
  {
   "cell_type": "code",
   "execution_count": 140,
   "id": "abcb8da3-9c92-4597-bc7c-812d946933c4",
   "metadata": {},
   "outputs": [],
   "source": [
    "marks = [90, 25, 67, 45, 80]"
   ]
  },
  {
   "cell_type": "code",
   "execution_count": 144,
   "id": "b5f75417-5321-4a05-929e-f6a1f25ec8db",
   "metadata": {},
   "outputs": [
    {
     "name": "stdout",
     "output_type": "stream",
     "text": [
      "1번째 학생 합격\n",
      "3번째 학생 합격\n",
      "5번째 학생 합격\n"
     ]
    }
   ],
   "source": [
    "numbers = 0 \n",
    "for mark in marks:\n",
    "    numbers = numbers + 1\n",
    "    if mark < 60:\n",
    "        continue\n",
    "    print(f\"{numbers}번째 학생 합격\")"
   ]
  },
  {
   "cell_type": "code",
   "execution_count": 148,
   "id": "e3b678de-d57e-4320-bbc4-458a0901ac1a",
   "metadata": {},
   "outputs": [],
   "source": [
    "import random"
   ]
  },
  {
   "cell_type": "code",
   "execution_count": 150,
   "id": "f063eac6-1508-476c-8b6d-0aa1ee42a306",
   "metadata": {},
   "outputs": [
    {
     "data": {
      "text/plain": [
       "25"
      ]
     },
     "execution_count": 150,
     "metadata": {},
     "output_type": "execute_result"
    }
   ],
   "source": [
    "random.randint(20,30)"
   ]
  },
  {
   "cell_type": "code",
   "execution_count": 157,
   "id": "bb3a9018-f53e-47aa-8436-a5fe650c1276",
   "metadata": {},
   "outputs": [],
   "source": [
    "count = 0\n",
    "for i in range(1,10):\n",
    "    if i == 6:\n",
    "        count += i\n",
    "        break"
   ]
  },
  {
   "cell_type": "code",
   "execution_count": 174,
   "id": "3096aa43-7abf-41c9-9220-956d70b26c2f",
   "metadata": {},
   "outputs": [],
   "source": [
    "for i in range(1,10):\n",
    "    globals()[f\"name_{i}\"] = i "
   ]
  },
  {
   "cell_type": "code",
   "execution_count": 200,
   "id": "b10aa821-ae5f-4d20-8e1c-70f9cfd0c32a",
   "metadata": {
    "collapsed": true,
    "jupyter": {
     "outputs_hidden": true
    },
    "tags": []
   },
   "outputs": [
    {
     "name": "stdout",
     "output_type": "stream",
     "text": [
      "1x1 = 1 \n",
      "1x2 = 2 \n",
      "1x3 = 3 \n",
      "1x4 = 4 \n",
      "1x5 = 5 \n",
      "1x6 = 6 \n",
      "1x7 = 7 \n",
      "1x8 = 8 \n",
      "1x9 = 9 \n",
      "\n",
      "2x1 = 2 \n",
      "2x2 = 4 \n",
      "2x3 = 6 \n",
      "2x4 = 8 \n",
      "2x5 = 10 \n",
      "2x6 = 12 \n",
      "2x7 = 14 \n",
      "2x8 = 16 \n",
      "2x9 = 18 \n",
      "\n",
      "3x1 = 3 \n",
      "3x2 = 6 \n",
      "3x3 = 9 \n",
      "3x4 = 12 \n",
      "3x5 = 15 \n",
      "3x6 = 18 \n",
      "3x7 = 21 \n",
      "3x8 = 24 \n",
      "3x9 = 27 \n",
      "\n",
      "4x1 = 4 \n",
      "4x2 = 8 \n",
      "4x3 = 12 \n",
      "4x4 = 16 \n",
      "4x5 = 20 \n",
      "4x6 = 24 \n",
      "4x7 = 28 \n",
      "4x8 = 32 \n",
      "4x9 = 36 \n",
      "\n",
      "5x1 = 5 \n",
      "5x2 = 10 \n",
      "5x3 = 15 \n",
      "5x4 = 20 \n",
      "5x5 = 25 \n",
      "5x6 = 30 \n",
      "5x7 = 35 \n",
      "5x8 = 40 \n",
      "5x9 = 45 \n",
      "\n",
      "6x1 = 6 \n",
      "6x2 = 12 \n",
      "6x3 = 18 \n",
      "6x4 = 24 \n",
      "6x5 = 30 \n",
      "6x6 = 36 \n",
      "6x7 = 42 \n",
      "6x8 = 48 \n",
      "6x9 = 54 \n",
      "\n",
      "7x1 = 7 \n",
      "7x2 = 14 \n",
      "7x3 = 21 \n",
      "7x4 = 28 \n",
      "7x5 = 35 \n",
      "7x6 = 42 \n",
      "7x7 = 49 \n",
      "7x8 = 56 \n",
      "7x9 = 63 \n",
      "\n",
      "8x1 = 8 \n",
      "8x2 = 16 \n",
      "8x3 = 24 \n",
      "8x4 = 32 \n",
      "8x5 = 40 \n",
      "8x6 = 48 \n",
      "8x7 = 56 \n",
      "8x8 = 64 \n",
      "8x9 = 72 \n",
      "\n",
      "9x1 = 9 \n",
      "9x2 = 18 \n",
      "9x3 = 27 \n",
      "9x4 = 36 \n",
      "9x5 = 45 \n",
      "9x6 = 54 \n",
      "9x7 = 63 \n",
      "9x8 = 72 \n",
      "9x9 = 81 \n",
      "\n"
     ]
    }
   ],
   "source": [
    "for i in range(1,10):\n",
    "    for j in  range(1,10):\n",
    "#         print(j)\n",
    "    \n",
    "        print(f\"{i}x{j} = {i*j} \")\n",
    "    print(end=\"\\n\")"
   ]
  },
  {
   "cell_type": "code",
   "execution_count": 201,
   "id": "b0f6d96e-6d8a-41bd-a591-335d39f9cd3a",
   "metadata": {},
   "outputs": [
    {
     "name": "stdout",
     "output_type": "stream",
     "text": [
      "*\n",
      "**\n",
      "***\n",
      "****\n",
      "*****\n"
     ]
    }
   ],
   "source": [
    "for i in range(1,6):\n",
    "    print(i*\"*\")"
   ]
  },
  {
   "cell_type": "code",
   "execution_count": 194,
   "id": "a6701ff9-7b2a-41a6-b916-e61f553194c1",
   "metadata": {},
   "outputs": [],
   "source": [
    "a = [1,2,3,4]"
   ]
  },
  {
   "cell_type": "code",
   "execution_count": 198,
   "id": "9c8280b5-e08e-4395-b5f7-4f2aaa993ce5",
   "metadata": {},
   "outputs": [
    {
     "data": {
      "text/plain": [
       "[3, 6, 9, 12]"
      ]
     },
     "execution_count": 198,
     "metadata": {},
     "output_type": "execute_result"
    }
   ],
   "source": [
    "[i*3 for i in a]"
   ]
  },
  {
   "cell_type": "code",
   "execution_count": 169,
   "id": "efb40391-901d-4a1b-b678-040b1d066ff0",
   "metadata": {},
   "outputs": [],
   "source": [
    "b = None"
   ]
  },
  {
   "cell_type": "code",
   "execution_count": 170,
   "id": "2a25e798-bd96-4288-be60-4cdd7660ddcc",
   "metadata": {},
   "outputs": [],
   "source": [
    "a = (b)"
   ]
  },
  {
   "cell_type": "code",
   "execution_count": 172,
   "id": "5ebbd265-5dce-4d36-bdce-91070b1748f5",
   "metadata": {},
   "outputs": [
    {
     "data": {
      "text/plain": [
       "NoneType"
      ]
     },
     "execution_count": 172,
     "metadata": {},
     "output_type": "execute_result"
    }
   ],
   "source": [
    "type(a)"
   ]
  },
  {
   "cell_type": "code",
   "execution_count": 226,
   "id": "b5450f2c-de57-4f64-822a-2083b39c7c89",
   "metadata": {
    "tags": []
   },
   "outputs": [],
   "source": [
    "def solution(s):\n",
    "    eval(result = s)\n",
    "    if isinstance(result, (int, float)):\n",
    "        True\n",
    "    else:\n",
    "        False"
   ]
  },
  {
   "cell_type": "code",
   "execution_count": 248,
   "id": "4708df0b-5942-4c1a-b6b6-59d14e89f5bc",
   "metadata": {},
   "outputs": [],
   "source": [
    "well = 19.7\n",
    "morning = 3\n",
    "night = 2"
   ]
  },
  {
   "cell_type": "code",
   "execution_count": 278,
   "id": "e9bdfcdb-af4e-4c9a-a7c0-aa35cea0aa44",
   "metadata": {},
   "outputs": [
    {
     "data": {
      "text/plain": [
       "True"
      ]
     },
     "execution_count": 278,
     "metadata": {},
     "output_type": "execute_result"
    }
   ],
   "source": [
    "(morning-night)* 20 > well"
   ]
  },
  {
   "cell_type": "code",
   "execution_count": 283,
   "id": "f8180964-abe1-458b-97ea-c171d001864b",
   "metadata": {},
   "outputs": [],
   "source": [
    "well = 19.7\n",
    "morning = 3\n",
    "night = 2"
   ]
  },
  {
   "cell_type": "code",
   "execution_count": 293,
   "id": "d5673fb5-685b-47de-9eaa-bd34b85bb4d4",
   "metadata": {},
   "outputs": [
    {
     "data": {
      "text/plain": [
       "False"
      ]
     },
     "execution_count": 293,
     "metadata": {},
     "output_type": "execute_result"
    }
   ],
   "source": [
    "(morning-night) * 18 > well"
   ]
  },
  {
   "cell_type": "code",
   "execution_count": 313,
   "id": "70408235-2804-46f0-839c-43c46d5ed603",
   "metadata": {},
   "outputs": [
    {
     "name": "stdout",
     "output_type": "stream",
     "text": [
      "🐸개구리 탈출 시도\n",
      "18 일째 낮\n",
      "\n",
      "개구리 높이: 20, 벽높이: 19.7\n",
      "낮에 개구리탈출\n",
      "🐸🐸 개굴개굴~\n"
     ]
    }
   ],
   "source": [
    "length = 0\n",
    "day = 0\n",
    "well = 19.7\n",
    "while True:\n",
    "    day += 1\n",
    "    length += 3\n",
    "    if length > well:\n",
    "        print(\"🐸개구리 탈출 시도\")\n",
    "        print(f\"{day} 일째 낮\")\n",
    "        print(\"\")\n",
    "        print(f\"개구리 높이: {length}, 벽높이: {well}\")\n",
    "        print(\"낮에 개구리탈출\")\n",
    "        print(\"🐸🐸 개굴개굴~\")\n",
    "        break\n",
    "    length -= 2\n",
    "    if length > well:\n",
    "        print(\"🐸개구리 탈출 시도\")\n",
    "        print(f\"{day} 일째 밤\")\n",
    "        print(\"\")\n",
    "        print(f\"개구리 높이: {length}, 벽높이: {well}\")\n",
    "        print(\"낮에 개구리탈출\")\n",
    "        print(\"🐸🐸 개굴개굴~\")\n",
    "        break"
   ]
  },
  {
   "cell_type": "code",
   "execution_count": 316,
   "id": "ffdb9a86-db7c-4f29-a00b-b668a8f06355",
   "metadata": {
    "tags": []
   },
   "outputs": [
    {
     "name": "stdout",
     "output_type": "stream",
     "text": [
      "🐸개구리 탈출 시도\n",
      "1일째\n",
      "낮: 3m\n",
      "밤: 1m\n",
      "---\n",
      "2일째\n",
      "낮: 4m\n",
      "밤: 2m\n",
      "---\n",
      "3일째\n",
      "낮: 5m\n",
      "밤: 3m\n",
      "---\n",
      "4일째\n",
      "낮: 6m\n",
      "밤: 4m\n",
      "---\n",
      "5일째\n",
      "낮: 7m\n",
      "밤: 5m\n",
      "---\n",
      "6일째\n",
      "낮: 8m\n",
      "밤: 6m\n",
      "---\n",
      "7일째\n",
      "낮: 9m\n",
      "밤: 7m\n",
      "---\n",
      "8일째\n",
      "낮: 10m\n",
      "밤: 8m\n",
      "---\n",
      "9일째\n",
      "낮: 11m\n",
      "밤: 9m\n",
      "---\n",
      "10일째\n",
      "낮: 12m\n",
      "밤: 10m\n",
      "---\n",
      "11일째\n",
      "낮: 13m\n",
      "밤: 11m\n",
      "---\n",
      "12일째\n",
      "낮: 14m\n",
      "밤: 12m\n",
      "---\n",
      "13일째\n",
      "낮: 15m\n",
      "밤: 13m\n",
      "---\n",
      "14일째\n",
      "낮: 16m\n",
      "밤: 14m\n",
      "---\n",
      "15일째\n",
      "낮: 17m\n",
      "밤: 15m\n",
      "---\n",
      "16일째\n",
      "낮: 18m\n",
      "밤: 16m\n",
      "---\n",
      "17일째\n",
      "낮: 19m\n",
      "밤: 17m\n",
      "---\n",
      "18일째\n",
      "낮: 20m\n",
      "🐸탈출🐸\n"
     ]
    }
   ],
   "source": [
    "frog_length = 0\n",
    "print(\"🐸개구리 탈출 시도\")\n",
    "for i in range(0,18):\n",
    "    print(f'{i+1}일째')\n",
    "    \n",
    "    frog_length += morning \n",
    "    print(f\"낮: {frog_length}m\")\n",
    "    if frog_length > well:\n",
    "        print('🐸탈출🐸')\n",
    "        break\n",
    "    frog_length -= night\n",
    "    print(f\"밤: {frog_length}m\")\n",
    "    if frog_length > well:\n",
    "        print('🐸탈출🐸')\n",
    "        break\n",
    "    print(\"---\")\n",
    "    "
   ]
  },
  {
   "cell_type": "code",
   "execution_count": 323,
   "id": "610e58ec-295e-467d-9817-ceba9a7bbf63",
   "metadata": {},
   "outputs": [],
   "source": [
    "def cal():\n",
    "    num = int(input())\n",
    "    if num % 2 == 0:\n",
    "        num = num/2\n",
    "    else:\n",
    "        num = num((num * 3) + 1) / 2 "
   ]
  },
  {
   "cell_type": "code",
   "execution_count": 394,
   "id": "26699aed-046c-4865-8f48-1d5677dcd95f",
   "metadata": {
    "tags": []
   },
   "outputs": [
    {
     "name": "stdout",
     "output_type": "stream",
     "text": [
      "짝수 : 341.0\n",
      "홀수 : 512\n",
      "짝수 : 256.0\n",
      "짝수 : 128.0\n",
      "짝수 : 64.0\n",
      "짝수 : 32.0\n",
      "짝수 : 16.0\n",
      "짝수 : 8.0\n",
      "짝수 : 4.0\n",
      "짝수 : 2.0\n",
      "짝수 : 1.0\n",
      "11\n"
     ]
    }
   ],
   "source": [
    "count = 0\n",
    "num = 682\n",
    "for i in range(1,100):\n",
    "    count += 1\n",
    "    \n",
    "    if num == 1:\n",
    "        break\n",
    "        \n",
    "    if num % 2 == 0:\n",
    "        num = (num/2)\n",
    "        print(f'짝수 : {num}')\n",
    "        \n",
    "    else:\n",
    "        num = int(((num * 3) + 1) / 2)\n",
    "        print(f\"홀수 : {num}\")\n",
    "print(count-1)"
   ]
  },
  {
   "cell_type": "code",
   "execution_count": 402,
   "id": "8ee992bf-bb1d-4b0f-932e-4cfd7ef6589f",
   "metadata": {},
   "outputs": [],
   "source": [
    "def count():\n",
    "    count = 0\n",
    "    num = int(input('숫자를 입력하시오 : '))\n",
    "    while True:\n",
    "        count += 1\n",
    "        print(f\"실행 횟수 : {count}\")\n",
    "        print(\"\")\n",
    "\n",
    "        if num == 1:\n",
    "            break\n",
    "\n",
    "        if num % 2 == 0:\n",
    "            num = int(num / 2)\n",
    "            print(f'짝수 : {num}')\n",
    "\n",
    "        else:\n",
    "            num = int(((num * 3) + 1) / 2)\n",
    "            print(f\"홀수 : {num}\")\n",
    "    print(f\"정답: {count-1}\")"
   ]
  },
  {
   "cell_type": "code",
   "execution_count": 407,
   "id": "781b2fac-9dac-4885-84f6-82a945270ff7",
   "metadata": {},
   "outputs": [],
   "source": [
    "a,b,c =3,4,5"
   ]
  },
  {
   "cell_type": "code",
   "execution_count": 558,
   "id": "464e49b5-3b85-4253-a2a7-eeb51cf43a38",
   "metadata": {},
   "outputs": [],
   "source": [
    "a, b, c = None, None, None"
   ]
  },
  {
   "cell_type": "code",
   "execution_count": 481,
   "id": "5db58a34-7777-438a-bba7-b88ae339b5a4",
   "metadata": {},
   "outputs": [],
   "source": [
    "a,b,c = list(range(1,101)), list(range(1,101)), list(range(1,101))"
   ]
  },
  {
   "cell_type": "code",
   "execution_count": 9,
   "id": "db33695a-a9a6-437c-a91b-26157a97a68e",
   "metadata": {},
   "outputs": [
    {
     "name": "stdout",
     "output_type": "stream",
     "text": [
      "김수현 🏏 맞을 횟수104\n"
     ]
    }
   ],
   "source": [
    "count = 0\n",
    "result = eval(\"i**2 + j**2 == k**2\")\n",
    "for i in range(1,101):\n",
    "    for j in range(1,101):\n",
    "        for k in range(1,101):\n",
    "            if i**2 + j**2 == k**2:\n",
    "                count += 1\n",
    "            else:\n",
    "                pass\n",
    "print(f\"김수현 🏏 맞을 횟수{count}\")"
   ]
  },
  {
   "cell_type": "code",
   "execution_count": 17,
   "id": "d2c17136-6806-4f01-8b89-bb00190566c2",
   "metadata": {},
   "outputs": [],
   "source": [
    "def myadd(a, b):\n",
    "    return a + b"
   ]
  },
  {
   "cell_type": "code",
   "execution_count": 28,
   "id": "66110dcb-69aa-4ce2-9505-df19ecf79beb",
   "metadata": {},
   "outputs": [
    {
     "name": "stdout",
     "output_type": "stream",
     "text": [
      "(1, 2, 3)\n",
      "{'name': 'foo', 'age': 3}\n"
     ]
    }
   ],
   "source": [
    "def func(*args, **kwargs):\n",
    "    print(args)\n",
    "    print(kwargs)\n",
    "\n",
    "func(1, 2, 3, name='foo', age=3)"
   ]
  },
  {
   "cell_type": "code",
   "execution_count": 37,
   "id": "bf86d32b-f88c-448f-a028-cba12fec7094",
   "metadata": {},
   "outputs": [],
   "source": [
    "x = [1, 2, 3, 4, 5, 6, 7, 8, 9, 10]"
   ]
  },
  {
   "cell_type": "code",
   "execution_count": 55,
   "id": "55ea343c-a673-417f-ae33-378398e9397d",
   "metadata": {},
   "outputs": [
    {
     "data": {
      "text/plain": [
       "[1, 2, '3', 4, 5, '6', 7, 8, '9', 10]"
      ]
     },
     "execution_count": 55,
     "metadata": {},
     "output_type": "execute_result"
    }
   ],
   "source": [
    "a = [1, 2, 3, 4, 5, 6, 7, 8, 9, 10]\n",
    "list(map(lambda x: str(x) if x % 3 == 0 else x, a))"
   ]
  },
  {
   "cell_type": "code",
   "execution_count": 45,
   "id": "100d856f-ce67-48a5-a915-20ff19d9a432",
   "metadata": {},
   "outputs": [],
   "source": [
    "def my_filter_1(x):\n",
    "    return x > 0 and x < 10"
   ]
  },
  {
   "cell_type": "code",
   "execution_count": 56,
   "id": "95db83c7-076c-4e12-9209-34e9018551e2",
   "metadata": {},
   "outputs": [],
   "source": [
    "a = [10, 123, 3, 12, 4, 7, 67]"
   ]
  },
  {
   "cell_type": "code",
   "execution_count": 47,
   "id": "bbcbb917-dae3-4171-a4d9-deeb6209540f",
   "metadata": {},
   "outputs": [
    {
     "data": {
      "text/plain": [
       "[3, 4, 7]"
      ]
     },
     "execution_count": 47,
     "metadata": {},
     "output_type": "execute_result"
    }
   ],
   "source": [
    "list(filter(my_filter_1, a))"
   ]
  },
  {
   "cell_type": "code",
   "execution_count": 60,
   "id": "fdafd46b-5ab2-4ca9-ab85-5e946fa414b0",
   "metadata": {},
   "outputs": [
    {
     "data": {
      "text/plain": [
       "[10, 123, 3, 12, 4, 7, 67]"
      ]
     },
     "execution_count": 60,
     "metadata": {},
     "output_type": "execute_result"
    }
   ],
   "source": [
    "list(filter(lambda x : x>0, a))"
   ]
  },
  {
   "cell_type": "code",
   "execution_count": 87,
   "id": "db1cdc1b-e32b-4128-bfc3-fc2cbb051d87",
   "metadata": {},
   "outputs": [
    {
     "data": {
      "text/plain": [
       "[10, 123, 3, 12, 4, 7, 67]"
      ]
     },
     "execution_count": 87,
     "metadata": {},
     "output_type": "execute_result"
    }
   ],
   "source": [
    "a"
   ]
  },
  {
   "cell_type": "code",
   "execution_count": 91,
   "id": "5528a404-0110-4817-91e7-f978fc07523d",
   "metadata": {},
   "outputs": [
    {
     "data": {
      "text/plain": [
       "[100, 15129, 9, 144, 16, 49, 4489]"
      ]
     },
     "execution_count": 91,
     "metadata": {},
     "output_type": "execute_result"
    }
   ],
   "source": [
    "list(map(lambda x : x**2 , a))"
   ]
  },
  {
   "cell_type": "code",
   "execution_count": 100,
   "id": "d8ed2d84-6a1e-448c-b052-dc45b738eb74",
   "metadata": {},
   "outputs": [
    {
     "name": "stdout",
     "output_type": "stream",
     "text": [
      "0 body\n",
      "1 foo\n",
      "2 bar\n"
     ]
    }
   ],
   "source": [
    "for i in zip(enumerate(['body','foo','bar'])):\n",
    "    print(i[0][0],i[0][1])"
   ]
  },
  {
   "cell_type": "code",
   "execution_count": 103,
   "id": "cb84bb66-b27e-4b3c-9129-0228ddb7ec4f",
   "metadata": {},
   "outputs": [],
   "source": [
    "dict_ = {}\n",
    "for i,j in enumerate(['body','foo','bar']):\n",
    "    dict_[j] = i"
   ]
  },
  {
   "cell_type": "code",
   "execution_count": 117,
   "id": "c6b8b86a-a374-4ea2-8819-bafd9e51c979",
   "metadata": {},
   "outputs": [
    {
     "name": "stdout",
     "output_type": "stream",
     "text": [
      "body\n",
      "foo\n",
      "bar\n"
     ]
    }
   ],
   "source": [
    "for i in dict_.items():\n",
    "    print(i[0])"
   ]
  },
  {
   "cell_type": "code",
   "execution_count": 119,
   "id": "165bad9e-6958-4d02-b2f7-e7a3b5efd5c4",
   "metadata": {},
   "outputs": [
    {
     "name": "stdout",
     "output_type": "stream",
     "text": [
      "body 0\n",
      "foo 1\n",
      "bar 2\n"
     ]
    }
   ],
   "source": [
    "for key, value in zip(dict_.keys(),dict_.values()):\n",
    "    print(key,value)"
   ]
  },
  {
   "cell_type": "code",
   "execution_count": 131,
   "id": "c41a4c84-3837-4e60-9497-57cdb55b56e5",
   "metadata": {},
   "outputs": [],
   "source": [
    "a = [2,3,6,7]"
   ]
  },
  {
   "cell_type": "code",
   "execution_count": 132,
   "id": "d65b0861-ad61-4cfc-888c-58214d9a0993",
   "metadata": {},
   "outputs": [],
   "source": [
    "a.sort()"
   ]
  },
  {
   "cell_type": "code",
   "execution_count": 135,
   "id": "37e29b6c-c3a7-46d8-8ac0-f670de8f28a3",
   "metadata": {},
   "outputs": [
    {
     "name": "stdout",
     "output_type": "stream",
     "text": [
      "[1, 2, 3]\n",
      "[1, 2, 3]\n",
      "[1, 2, 3]\n"
     ]
    }
   ],
   "source": [
    "my_list = [3, 1, 2]\n",
    "\n",
    "# sort\n",
    "my_list.sort()\n",
    "print(my_list)  # 출력: [1, 2, 3]\n",
    "\n",
    "# sorted\n",
    "new_list = sorted(my_list)\n",
    "print(new_list)  # 출력: [1, 2, 3]\n",
    "print(my_list)  # 출력: [3, 1, 2]"
   ]
  },
  {
   "cell_type": "code",
   "execution_count": 137,
   "id": "756124a3-9a06-4fd8-bb3d-de564bd634e2",
   "metadata": {},
   "outputs": [],
   "source": [
    "my_list.sort()"
   ]
  },
  {
   "cell_type": "code",
   "execution_count": 144,
   "id": "a7134e6c-99e6-479d-9b1a-a7de469d6d5e",
   "metadata": {},
   "outputs": [
    {
     "data": {
      "text/plain": [
       "[1, 2, 3]"
      ]
     },
     "execution_count": 144,
     "metadata": {},
     "output_type": "execute_result"
    }
   ],
   "source": [
    "# 변수안에 저장이 됨\n",
    "my_list = [3, 1, 2]\n",
    "my_list.sort()\n",
    "my_list"
   ]
  },
  {
   "cell_type": "code",
   "execution_count": 148,
   "id": "b81f2afe-612d-46d0-bd95-9dd27b9fae70",
   "metadata": {},
   "outputs": [
    {
     "data": {
      "text/plain": [
       "[3, 1, 2]"
      ]
     },
     "execution_count": 148,
     "metadata": {},
     "output_type": "execute_result"
    }
   ],
   "source": [
    "# 변수안에 저장이 안됌\n",
    "my_list = [3, 1, 2]\n",
    "sorted(my_list)\n",
    "my_list"
   ]
  },
  {
   "cell_type": "code",
   "execution_count": 149,
   "id": "9f1b9558-04fb-4aeb-9f8c-6ec9fbbd4db3",
   "metadata": {},
   "outputs": [
    {
     "data": {
      "text/plain": [
       "[('국', 80), ('영', 90), ('수', 85)]"
      ]
     },
     "execution_count": 149,
     "metadata": {},
     "output_type": "execute_result"
    }
   ],
   "source": [
    "name = ['국','영','수']\n",
    "marks = [80, 90, 85]\n",
    "list(zip(name,marks))"
   ]
  },
  {
   "cell_type": "code",
   "execution_count": 202,
   "id": "16fe36c3-b5b5-44bc-83fb-aee91d80de99",
   "metadata": {},
   "outputs": [],
   "source": [
    "from mymod1 import area_cirlce"
   ]
  },
  {
   "cell_type": "code",
   "execution_count": 230,
   "id": "cb5d5195-6cbe-40ab-b12b-a71531028e3e",
   "metadata": {},
   "outputs": [],
   "source": [
    "from mypac.mymod2 import *"
   ]
  },
  {
   "cell_type": "code",
   "execution_count": 231,
   "id": "58bb1fa6-4849-4b94-80b2-f556289bd74b",
   "metadata": {},
   "outputs": [
    {
     "data": {
      "text/plain": [
       "10"
      ]
     },
     "execution_count": 231,
     "metadata": {},
     "output_type": "execute_result"
    }
   ],
   "source": [
    "val_mymod2"
   ]
  },
  {
   "cell_type": "code",
   "execution_count": 206,
   "id": "84a9630f-baed-4ec0-a514-47ff5d267d76",
   "metadata": {},
   "outputs": [
    {
     "data": {
      "text/plain": [
       "9.42"
      ]
     },
     "execution_count": 206,
     "metadata": {},
     "output_type": "execute_result"
    }
   ],
   "source": [
    "area_cirlce(3.0)"
   ]
  },
  {
   "cell_type": "code",
   "execution_count": 172,
   "id": "e349a21f-3bf3-4353-ae54-0741381e9558",
   "metadata": {},
   "outputs": [],
   "source": [
    "from faker import Faker\n",
    "import pandas as pd"
   ]
  },
  {
   "cell_type": "code",
   "execution_count": 161,
   "id": "e944344a-3685-4bef-af51-ad11faa9e502",
   "metadata": {},
   "outputs": [],
   "source": [
    "fake = Faker(\"ko_KR\")"
   ]
  },
  {
   "cell_type": "code",
   "execution_count": 213,
   "id": "663f8119-e2ed-4acc-9592-b3086150f13b",
   "metadata": {},
   "outputs": [
    {
     "data": {
      "text/plain": [
       "['job',\n",
       " 'company',\n",
       " 'ssn',\n",
       " 'residence',\n",
       " 'current_location',\n",
       " 'blood_group',\n",
       " 'website',\n",
       " 'username',\n",
       " 'name',\n",
       " 'sex',\n",
       " 'address',\n",
       " 'mail',\n",
       " 'birthdate']"
      ]
     },
     "execution_count": 213,
     "metadata": {},
     "output_type": "execute_result"
    }
   ],
   "source": [
    "list(name.keys())"
   ]
  },
  {
   "cell_type": "code",
   "execution_count": 221,
   "id": "b5ba3580-8b76-438b-b0e0-5dae34d915c7",
   "metadata": {},
   "outputs": [],
   "source": [
    "data =  pd.DataFrame(columns=list(name.keys()))"
   ]
  },
  {
   "cell_type": "code",
   "execution_count": 180,
   "id": "9d7a540c-7cea-4413-9236-a55abd7be34c",
   "metadata": {},
   "outputs": [],
   "source": [
    "name = fake.profile()\n"
   ]
  },
  {
   "cell_type": "code",
   "execution_count": 179,
   "id": "2e970cf4-dc32-4c10-948c-d6e86a3058df",
   "metadata": {},
   "outputs": [
    {
     "data": {
      "text/html": [
       "<div>\n",
       "<style scoped>\n",
       "    .dataframe tbody tr th:only-of-type {\n",
       "        vertical-align: middle;\n",
       "    }\n",
       "\n",
       "    .dataframe tbody tr th {\n",
       "        vertical-align: top;\n",
       "    }\n",
       "\n",
       "    .dataframe thead th {\n",
       "        text-align: right;\n",
       "    }\n",
       "</style>\n",
       "<table border=\"1\" class=\"dataframe\">\n",
       "  <thead>\n",
       "    <tr style=\"text-align: right;\">\n",
       "      <th></th>\n",
       "      <th>0</th>\n",
       "    </tr>\n",
       "  </thead>\n",
       "  <tbody>\n",
       "    <tr>\n",
       "      <th>0</th>\n",
       "      <td>국</td>\n",
       "    </tr>\n",
       "    <tr>\n",
       "      <th>1</th>\n",
       "      <td>영</td>\n",
       "    </tr>\n",
       "    <tr>\n",
       "      <th>2</th>\n",
       "      <td>수</td>\n",
       "    </tr>\n",
       "  </tbody>\n",
       "</table>\n",
       "</div>"
      ],
      "text/plain": [
       "   0\n",
       "0  국\n",
       "1  영\n",
       "2  수"
      ]
     },
     "execution_count": 179,
     "metadata": {},
     "output_type": "execute_result"
    }
   ],
   "source": [
    "data"
   ]
  },
  {
   "cell_type": "code",
   "execution_count": null,
   "id": "38bd1d25-3c15-4a15-9c05-6e1023fca128",
   "metadata": {},
   "outputs": [],
   "source": [
    "import zipfile\n",
    "\n",
    "# 압축할 파일 목록\n",
    "file_list = ['file1.txt', 'file2.txt', 'file3.txt']\n",
    "\n",
    "# 생성할 zip 파일명\n",
    "zip_file = 'archive.zip'\n",
    "\n",
    "# Zip 파일 객체 생성\n",
    "with zipfile.ZipFile(zip_file, 'w') as zf:\n",
    "    # 파일 목록을 반복하며 압축\n",
    "    for file in file_list:\n",
    "        zf.write(file)\n",
    "\n",
    "print(\"압축이 완료되었습니다.\")"
   ]
  }
 ],
 "metadata": {
  "kernelspec": {
   "display_name": "Python 3 (ipykernel)",
   "language": "python",
   "name": "python3"
  },
  "language_info": {
   "codemirror_mode": {
    "name": "ipython",
    "version": 3
   },
   "file_extension": ".py",
   "mimetype": "text/x-python",
   "name": "python",
   "nbconvert_exporter": "python",
   "pygments_lexer": "ipython3",
   "version": "3.9.7"
  }
 },
 "nbformat": 4,
 "nbformat_minor": 5
}
